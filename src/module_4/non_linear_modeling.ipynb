{
 "cells": [
  {
   "cell_type": "markdown",
   "metadata": {},
   "source": [
    "# Module 4 - Non linear modeling"
   ]
  },
  {
   "cell_type": "code",
   "execution_count": 1,
   "metadata": {},
   "outputs": [],
   "source": [
    "import pandas as pd\n",
    "import numpy as np\n",
    "import matplotlib.pyplot as plt\n",
    "from sklearn.pipeline import make_pipeline\n",
    "from sklearn.pipeline import Pipeline\n",
    "from sklearn.preprocessing import StandardScaler\n",
    "from sklearn.linear_model import LogisticRegression\n",
    "from sklearn.tree import DecisionTreeClassifier\n",
    "from sklearn.ensemble import RandomForestClassifier\n",
    "from xgboost import XGBClassifier\n",
    "from sklearn.metrics import precision_recall_curve, auc, roc_curve, roc_auc_score, average_precision_score\n",
    "import random\n",
    "from catboost import CatBoostClassifier, Pool"
   ]
  },
  {
   "cell_type": "code",
   "execution_count": 2,
   "metadata": {},
   "outputs": [],
   "source": [
    "data = pd.read_csv(r\"/home/raquel/zrive-ds/src/module_3/feature_frame.csv\")"
   ]
  },
  {
   "cell_type": "code",
   "execution_count": 3,
   "metadata": {},
   "outputs": [],
   "source": [
    "#Orders with more than 5 products\n",
    "purchases = data[data[\"outcome\"] == 1]\n",
    "purchases = purchases.groupby(\"order_id\").size().reset_index(name=\"n_products\")\n",
    "purch_5_prod = purchases[purchases[\"n_products\"] >= 5]"
   ]
  },
  {
   "cell_type": "markdown",
   "metadata": {},
   "source": [
    "The previous DataFrame contains the products purchased in each of the orders with more than 5 products. I complete the dataset with those products that have NOT been purchased in these baskets"
   ]
  },
  {
   "cell_type": "code",
   "execution_count": 4,
   "metadata": {},
   "outputs": [
    {
     "name": "stdout",
     "output_type": "stream",
     "text": [
      "(2163953, 27)\n"
     ]
    }
   ],
   "source": [
    "purch_5_prod = data[data[\"order_id\"].isin(purch_5_prod[\"order_id\"])]\n",
    "print(purch_5_prod.shape)"
   ]
  },
  {
   "cell_type": "code",
   "execution_count": 5,
   "metadata": {},
   "outputs": [
    {
     "data": {
      "text/html": [
       "<div>\n",
       "<style scoped>\n",
       "    .dataframe tbody tr th:only-of-type {\n",
       "        vertical-align: middle;\n",
       "    }\n",
       "\n",
       "    .dataframe tbody tr th {\n",
       "        vertical-align: top;\n",
       "    }\n",
       "\n",
       "    .dataframe thead th {\n",
       "        text-align: right;\n",
       "    }\n",
       "</style>\n",
       "<table border=\"1\" class=\"dataframe\">\n",
       "  <thead>\n",
       "    <tr style=\"text-align: right;\">\n",
       "      <th></th>\n",
       "      <th>variant_id</th>\n",
       "      <th>product_type</th>\n",
       "      <th>order_id</th>\n",
       "      <th>user_id</th>\n",
       "      <th>created_at</th>\n",
       "      <th>order_date</th>\n",
       "      <th>user_order_seq</th>\n",
       "      <th>outcome</th>\n",
       "      <th>ordered_before</th>\n",
       "      <th>abandoned_before</th>\n",
       "      <th>...</th>\n",
       "      <th>count_babies</th>\n",
       "      <th>count_pets</th>\n",
       "      <th>people_ex_baby</th>\n",
       "      <th>days_since_purchase_variant_id</th>\n",
       "      <th>avg_days_to_buy_variant_id</th>\n",
       "      <th>std_days_to_buy_variant_id</th>\n",
       "      <th>days_since_purchase_product_type</th>\n",
       "      <th>avg_days_to_buy_product_type</th>\n",
       "      <th>std_days_to_buy_product_type</th>\n",
       "      <th>month_created</th>\n",
       "    </tr>\n",
       "  </thead>\n",
       "  <tbody>\n",
       "    <tr>\n",
       "      <th>0</th>\n",
       "      <td>33826472919172</td>\n",
       "      <td>ricepastapulses</td>\n",
       "      <td>2807985930372</td>\n",
       "      <td>3482464092292</td>\n",
       "      <td>2020-10-05 16:46:19</td>\n",
       "      <td>2020-10-05</td>\n",
       "      <td>3</td>\n",
       "      <td>0.0</td>\n",
       "      <td>0.0</td>\n",
       "      <td>0.0</td>\n",
       "      <td>...</td>\n",
       "      <td>0.0</td>\n",
       "      <td>0.0</td>\n",
       "      <td>2.0</td>\n",
       "      <td>33.0</td>\n",
       "      <td>42.0</td>\n",
       "      <td>31.134053</td>\n",
       "      <td>30.0</td>\n",
       "      <td>30.0</td>\n",
       "      <td>24.27618</td>\n",
       "      <td>10</td>\n",
       "    </tr>\n",
       "    <tr>\n",
       "      <th>1</th>\n",
       "      <td>33826472919172</td>\n",
       "      <td>ricepastapulses</td>\n",
       "      <td>2808027644036</td>\n",
       "      <td>3466586718340</td>\n",
       "      <td>2020-10-05 17:59:51</td>\n",
       "      <td>2020-10-05</td>\n",
       "      <td>2</td>\n",
       "      <td>0.0</td>\n",
       "      <td>0.0</td>\n",
       "      <td>0.0</td>\n",
       "      <td>...</td>\n",
       "      <td>0.0</td>\n",
       "      <td>0.0</td>\n",
       "      <td>2.0</td>\n",
       "      <td>33.0</td>\n",
       "      <td>42.0</td>\n",
       "      <td>31.134053</td>\n",
       "      <td>30.0</td>\n",
       "      <td>30.0</td>\n",
       "      <td>24.27618</td>\n",
       "      <td>10</td>\n",
       "    </tr>\n",
       "  </tbody>\n",
       "</table>\n",
       "<p>2 rows × 28 columns</p>\n",
       "</div>"
      ],
      "text/plain": [
       "       variant_id     product_type       order_id        user_id  \\\n",
       "0  33826472919172  ricepastapulses  2807985930372  3482464092292   \n",
       "1  33826472919172  ricepastapulses  2808027644036  3466586718340   \n",
       "\n",
       "           created_at order_date  user_order_seq  outcome  ordered_before  \\\n",
       "0 2020-10-05 16:46:19 2020-10-05               3      0.0             0.0   \n",
       "1 2020-10-05 17:59:51 2020-10-05               2      0.0             0.0   \n",
       "\n",
       "   abandoned_before  ...  count_babies  count_pets  people_ex_baby  \\\n",
       "0               0.0  ...           0.0         0.0             2.0   \n",
       "1               0.0  ...           0.0         0.0             2.0   \n",
       "\n",
       "   days_since_purchase_variant_id avg_days_to_buy_variant_id  \\\n",
       "0                            33.0                       42.0   \n",
       "1                            33.0                       42.0   \n",
       "\n",
       "   std_days_to_buy_variant_id  days_since_purchase_product_type  \\\n",
       "0                   31.134053                              30.0   \n",
       "1                   31.134053                              30.0   \n",
       "\n",
       "   avg_days_to_buy_product_type  std_days_to_buy_product_type  month_created  \n",
       "0                          30.0                      24.27618             10  \n",
       "1                          30.0                      24.27618             10  \n",
       "\n",
       "[2 rows x 28 columns]"
      ]
     },
     "execution_count": 5,
     "metadata": {},
     "output_type": "execute_result"
    }
   ],
   "source": [
    "# For a recommendation algorithm, I think it could be useful to create a feature that extracts the month of the purchase.\n",
    "purch_5_prod = purch_5_prod.assign(\n",
    "    created_at=lambda x: pd.to_datetime(x.created_at),\n",
    "    month_created=lambda x: x.created_at.dt.month,\n",
    "    order_date = lambda x:pd.to_datetime(x.order_date)\n",
    ")\n",
    "purch_5_prod.head(2)"
   ]
  },
  {
   "cell_type": "markdown",
   "metadata": {},
   "source": [
    "# Train-Val-Test split"
   ]
  },
  {
   "cell_type": "markdown",
   "metadata": {},
   "source": [
    "Im'm going to do a common train-val-test split for all the models. \n",
    "- The train subset for ensemble learning will be divided as corresponds in each model.\n",
    "- The validation subset will be the tool to identify overfitting.\n",
    "- The test subset will be the final proof."
   ]
  },
  {
   "cell_type": "code",
   "execution_count": 6,
   "metadata": {},
   "outputs": [
    {
     "name": "stdout",
     "output_type": "stream",
     "text": [
      "Train since 2020-10-05 00:00:00\n",
      "Train until 2021-02-04 00:00:00\n",
      "Val until 2021-02-22 00:00:00\n",
      "Test until 2021-03-03 00:00:00\n"
     ]
    }
   ],
   "source": [
    "#To avoid information leakage, I will follow the chronological order and all products from the same order within the same subset\n",
    "daily_orders = purch_5_prod.groupby(\"order_date\").order_id.nunique()\n",
    "cumsum_daily_orders = daily_orders.cumsum()/daily_orders.sum()\n",
    "\n",
    "train_val_cutoff = cumsum_daily_orders[cumsum_daily_orders <= 0.7].idxmax()\n",
    "val_test_cutoff = cumsum_daily_orders[cumsum_daily_orders <= 0.9].idxmax()\n",
    "\n",
    "print(\"Train since\", cumsum_daily_orders.index.min())\n",
    "print(\"Train until\", train_val_cutoff)\n",
    "print(\"Val until\", val_test_cutoff)\n",
    "print(\"Test until\", cumsum_daily_orders.index.max())"
   ]
  },
  {
   "cell_type": "code",
   "execution_count": 7,
   "metadata": {},
   "outputs": [],
   "source": [
    "train_df = purch_5_prod[purch_5_prod.order_date <= train_val_cutoff]\n",
    "val_df = purch_5_prod[(purch_5_prod.order_date > train_val_cutoff) & (purch_5_prod.order_date <= val_test_cutoff)]\n",
    "test_df = purch_5_prod[purch_5_prod.order_date > val_test_cutoff]"
   ]
  },
  {
   "cell_type": "code",
   "execution_count": 8,
   "metadata": {},
   "outputs": [],
   "source": [
    "# Without predictive power\n",
    "info_cols = [\"variant_id\", \"order_id\", \"user_id\", \"created_at\", \"order_date\"]\n",
    "label_col = \"outcome\"\n",
    "feature_cols = [\n",
    "    col for col in purch_5_prod.columns if col not in info_cols + [label_col]\n",
    "]\n",
    "# Breaking down the features\n",
    "categorical_cols = [\"product_type\", \"vendor\"]\n",
    "binary_cols = [\"ordered_before\", \"abandoned_before\", \"active_snoozed\", \"set_as_regular\"]\n",
    "numerical_cols = [\n",
    "    col for col in feature_cols if col not in categorical_cols + binary_cols\n",
    "]\n",
    "train_cols = numerical_cols + binary_cols  "
   ]
  },
  {
   "cell_type": "code",
   "execution_count": 9,
   "metadata": {},
   "outputs": [],
   "source": [
    "X_train = train_df.drop(label_col,axis=1)\n",
    "y_train = train_df[label_col]\n",
    "X_val= val_df.drop(label_col,axis=1)\n",
    "y_val= val_df['outcome']"
   ]
  },
  {
   "cell_type": "code",
   "execution_count": 10,
   "metadata": {},
   "outputs": [],
   "source": [
    "def evaluate_model(\n",
    "        clf,\n",
    "        X_train,\n",
    "        y_train,\n",
    "        X_val,\n",
    "        y_val,\n",
    "        train_aucs_list,\n",
    "        val_aucs_list,\n",
    "        train_aps_list,\n",
    "        val_aps_list,\n",
    "):\n",
    "    train_preds = clf.predict_proba(X_train)[:,1]\n",
    "    val_preds = clf.predict_proba(X_val)[:,1]\n",
    "    train_auc = roc_auc_score(y_train,train_preds)\n",
    "    val_auc = roc_auc_score(y_val,val_preds)\n",
    "    train_ap = average_precision_score(y_train,train_preds)\n",
    "    val_ap = average_precision_score(y_val,val_preds)\n",
    "\n",
    "    train_aucs_list.append(train_auc)\n",
    "    val_aucs_list.append(val_auc)\n",
    "    train_aps_list.append(train_ap)\n",
    "    val_aps_list.append(val_ap)\n",
    "\n",
    "def plot_feature_importance(clf, columns):\n",
    "    fig, ax = plt.subplots()\n",
    "    fi = pd.DataFrame(\n",
    "        list(zip(columns, clf.feature_importances_)),columns=[\"features\",\"importance\"]).sort_values(by=\"importance\",ascending=True)\n",
    "    fi.plot(kind=\"barh\",x=\"features\",y=\"importance\",ax=ax)\n",
    "    return fi, fig, ax \n",
    "    "
   ]
  },
  {
   "cell_type": "markdown",
   "metadata": {},
   "source": [
    "First, I'm going to avoid categorical variables"
   ]
  },
  {
   "cell_type": "code",
   "execution_count": 11,
   "metadata": {},
   "outputs": [],
   "source": [
    "train_cols = numerical_cols + binary_cols"
   ]
  },
  {
   "cell_type": "markdown",
   "metadata": {},
   "source": [
    "# Linear Baseline"
   ]
  },
  {
   "cell_type": "markdown",
   "metadata": {},
   "source": [
    "Ridge"
   ]
  },
  {
   "cell_type": "code",
   "execution_count": 64,
   "metadata": {},
   "outputs": [
    {
     "name": "stdout",
     "output_type": "stream",
     "text": [
      "LR Ridge c=1e-08: train_auc= 0.8242 and val_auc= 0.8319. Train_ap= 0.1561 and val_ap= 0.1602.\n",
      "LR Ridge c=1e-06: train_auc= 0.8249 and val_auc= 0.8326. Train_ap= 0.1564 and val_ap= 0.1603.\n",
      "LR Ridge c=0.0001: train_auc= 0.8114 and val_auc= 0.8240. Train_ap= 0.1602 and val_ap= 0.1585.\n",
      "LR Ridge c=0.01: train_auc= 0.7983 and val_auc= 0.8130. Train_ap= 0.1585 and val_ap= 0.1557.\n",
      "LR Ridge c=1: train_auc= 0.7980 and val_auc= 0.8127. Train_ap= 0.1585 and val_ap= 0.1557.\n",
      "LR Ridge c=100: train_auc= 0.7980 and val_auc= 0.8127. Train_ap= 0.1585 and val_ap= 0.1557.\n",
      "LR Ridge c=10000.0: train_auc= 0.7980 and val_auc= 0.8127. Train_ap= 0.1585 and val_ap= 0.1557.\n"
     ]
    }
   ],
   "source": [
    "lr_ridge_train_aucs_list = []\n",
    "lr_ridge_val_aucs_list = []\n",
    "lr_ridge_train_aps_list = []\n",
    "lr_ridge_val_aps_list = []\n",
    "cs = [1e-8, 1e-6, 1e-4, 1e-2, 1, 100, 1e4]\n",
    "for c in cs:\n",
    "    lr = make_pipeline(StandardScaler(), LogisticRegression(penalty=\"l2\", C=c))\n",
    "    lr.fit(X_train[train_cols],y_train)\n",
    "    evaluate_model(\n",
    "        lr,\n",
    "        X_train[train_cols],\n",
    "        y_train,\n",
    "        X_val[train_cols],\n",
    "        y_val,\n",
    "        lr_ridge_train_aucs_list,\n",
    "        lr_ridge_val_aucs_list,\n",
    "        lr_ridge_train_aps_list,\n",
    "        lr_ridge_val_aps_list\n",
    "    )\n",
    "\n",
    "    print(\n",
    "        f\"LR Ridge c={c}: train_auc= {lr_ridge_train_aucs_list[-1]:.4f} and val_auc= {lr_ridge_val_aucs_list[-1]:.4f}.\"\n",
    "        f\" Train_ap= {lr_ridge_train_aps_list[-1]:.4f} and val_ap= {lr_ridge_val_aps_list[-1]:.4f}.\"\n",
    "    )"
   ]
  },
  {
   "cell_type": "markdown",
   "metadata": {},
   "source": [
    "Se ve como en ninguno de los valores de regularización se consigue overfitting, aunque se ve mejor resultado con c=1e-06"
   ]
  },
  {
   "cell_type": "markdown",
   "metadata": {},
   "source": [
    "Lasso"
   ]
  },
  {
   "cell_type": "code",
   "execution_count": 63,
   "metadata": {},
   "outputs": [
    {
     "name": "stdout",
     "output_type": "stream",
     "text": [
      "LR Lasso c=1e-08: train_auc= 0.5000 and val_auc= 0.5000. Train_ap= 0.0151 and val_ap= 0.0135.\n",
      "LR Lasso c=1e-06: train_auc= 0.5000 and val_auc= 0.5000. Train_ap= 0.0151 and val_ap= 0.0135.\n",
      "LR Lasso c=0.0001: train_auc= 0.8330 and val_auc= 0.8344. Train_ap= 0.1615 and val_ap= 0.1484.\n",
      "LR Lasso c=0.01: train_auc= 0.7996 and val_auc= 0.8143. Train_ap= 0.1587 and val_ap= 0.1563.\n",
      "LR Lasso c=1: train_auc= 0.7979 and val_auc= 0.8126. Train_ap= 0.1585 and val_ap= 0.1558.\n",
      "LR Lasso c=100: train_auc= 0.7979 and val_auc= 0.8126. Train_ap= 0.1585 and val_ap= 0.1558.\n",
      "LR Lasso c=10000.0: train_auc= 0.7979 and val_auc= 0.8126. Train_ap= 0.1585 and val_ap= 0.1558.\n"
     ]
    }
   ],
   "source": [
    "lr_lasso_train_aucs_list = []\n",
    "lr_lasso_val_aucs_list = []\n",
    "lr_lasso_train_aps_list = []\n",
    "lr_lasso_val_aps_list = []\n",
    "cs = [1e-8, 1e-6, 1e-4, 1e-2, 1, 100, 1e4]\n",
    "for c in cs:\n",
    "    lr = make_pipeline(StandardScaler(), LogisticRegression(penalty=\"l1\", C=c, solver=\"saga\"))\n",
    "    lr.fit(X_train[train_cols],y_train)\n",
    "    evaluate_model(\n",
    "        lr,\n",
    "        X_train[train_cols],\n",
    "        y_train,\n",
    "        X_val[train_cols],\n",
    "        y_val,\n",
    "        lr_lasso_train_aucs_list,\n",
    "        lr_lasso_val_aucs_list,\n",
    "        lr_lasso_train_aps_list,\n",
    "        lr_lasso_val_aps_list\n",
    "    )\n",
    "\n",
    "    print(\n",
    "        f\"LR Lasso c={c}: train_auc= {lr_lasso_train_aucs_list[-1]:.4f} and val_auc= {lr_lasso_val_aucs_list[-1]:.4f}.\"\n",
    "        f\" Train_ap= {lr_lasso_train_aps_list[-1]:.4f} and val_ap= {lr_lasso_val_aps_list[-1]:.4f}.\"\n",
    "    )"
   ]
  },
  {
   "cell_type": "markdown",
   "metadata": {},
   "source": [
    "Como el mejor val_auc se ha obtenido en el Ridge con c=1e-06, sacaré el feature importance y será el baseline de referencia."
   ]
  },
  {
   "cell_type": "code",
   "execution_count": 175,
   "metadata": {},
   "outputs": [],
   "source": [
    "lr = Pipeline(\n",
    "    [\n",
    "        (\"standard_scaler\",StandardScaler()), \n",
    "        (\"lr\", LogisticRegression(penalty=\"l2\", C=1e-6)),\n",
    "    ]\n",
    ")\n",
    "lr.fit(X_train[train_cols],y_train)\n",
    "lr_coeff = pd.DataFrame({\n",
    "    \"features\": train_cols,\n",
    "    \"importance\": np.abs(lr.named_steps[\"lr\"].coef_[0])\n",
    "}).sort_values(by=\"importance\",ascending=True)"
   ]
  },
  {
   "cell_type": "code",
   "execution_count": 181,
   "metadata": {},
   "outputs": [
    {
     "data": {
      "text/plain": [
       "<Axes: ylabel='features'>"
      ]
     },
     "execution_count": 181,
     "metadata": {},
     "output_type": "execute_result"
    },
    {
     "data": {
      "image/png": "[encoded data removed]",
      "text/plain": [
       "<Figure size 640x480 with 1 Axes>"
      ]
     },
     "metadata": {},
     "output_type": "display_data"
    }
   ],
   "source": [
    "lr_coeff.plot(kind='barh',x=\"features\",y=\"importance\")"
   ]
  },
  {
   "cell_type": "markdown",
   "metadata": {},
   "source": [
    "Suprimo las cinco últimas y reentreno Ridge"
   ]
  },
  {
   "cell_type": "code",
   "execution_count": null,
   "metadata": {},
   "outputs": [
    {
     "data": {
      "text/plain": [
       "7                           count_pets\n",
       "0                       user_order_seq\n",
       "11          std_days_to_buy_variant_id\n",
       "12    days_since_purchase_product_type\n",
       "15                       month_created\n",
       "9       days_since_purchase_variant_id\n",
       "14        std_days_to_buy_product_type\n",
       "13        avg_days_to_buy_product_type\n",
       "10          avg_days_to_buy_variant_id\n",
       "1                     normalised_price\n",
       "18                      active_snoozed\n",
       "19                      set_as_regular\n",
       "3                    global_popularity\n",
       "17                    abandoned_before\n",
       "16                      ordered_before\n",
       "Name: features, dtype: object"
      ]
     },
     "execution_count": 183,
     "metadata": {},
     "output_type": "execute_result"
    }
   ],
   "source": [
    "lr_filtered_cols = lr_coeff[\"features\"].iloc[-15:]"
   ]
  },
  {
   "cell_type": "code",
   "execution_count": null,
   "metadata": {},
   "outputs": [
    {
     "name": "stdout",
     "output_type": "stream",
     "text": [
      "LR Ridge c=1e-08: train_auc= 0.8249 and val_auc= 0.8323. Train_ap= 0.1563 and val_auc= 0.1603.\n",
      "LR Ridge c=1e-06: train_auc= 0.8254 and val_auc= 0.8328. Train_ap= 0.1565 and val_auc= 0.1604.\n",
      "LR Ridge c=0.0001: train_auc= 0.8118 and val_auc= 0.8244. Train_ap= 0.1602 and val_auc= 0.1585.\n",
      "LR Ridge c=0.01: train_auc= 0.7982 and val_auc= 0.8131. Train_ap= 0.1585 and val_auc= 0.1560.\n",
      "LR Ridge c=1: train_auc= 0.7980 and val_auc= 0.8129. Train_ap= 0.1585 and val_auc= 0.1559.\n",
      "LR Ridge c=100: train_auc= 0.7980 and val_auc= 0.8129. Train_ap= 0.1585 and val_auc= 0.1559.\n",
      "LR Ridge c=10000.0: train_auc= 0.7980 and val_auc= 0.8129. Train_ap= 0.1585 and val_auc= 0.1559.\n"
     ]
    }
   ],
   "source": [
    "lr_ridge_train_aucs_list = []\n",
    "lr_ridge_val_aucs_list = []\n",
    "lr_ridge_train_aps_list = []\n",
    "lr_ridge_val_aps_list = []\n",
    "cs = [1e-8, 1e-6, 1e-4, 1e-2, 1, 100, 1e4]\n",
    "for c in cs:\n",
    "    lr = make_pipeline(StandardScaler(), LogisticRegression(penalty=\"l2\", C=c))\n",
    "    lr.fit(X_train[lr_filtered_cols],y_train)\n",
    "    evaluate_model(\n",
    "        lr,\n",
    "        X_train[lr_filtered_cols],\n",
    "        y_train,\n",
    "        X_val[lr_filtered_cols],\n",
    "        y_val,\n",
    "        lr_ridge_train_aucs_list,\n",
    "        lr_ridge_val_aucs_list,\n",
    "        lr_ridge_train_aps_list,\n",
    "        lr_ridge_val_aps_list\n",
    "    )\n",
    "\n",
    "    print(\n",
    "        f\"LR Ridge c={c}: train_auc= {lr_ridge_train_aucs_list[-1]:.4f} and val_auc= {lr_ridge_val_aucs_list[-1]:.4f}.\"\n",
    "        f\" Train_ap= {lr_ridge_train_aps_list[-1]:.4f} and val_ap= {lr_ridge_val_aps_list[-1]:.4f}.\"\n",
    "    )"
   ]
  },
  {
   "cell_type": "markdown",
   "metadata": {},
   "source": [
    "El mejor sigue siendo con c=1e-06 con un val_ap = 0.1604 (BASELINE)"
   ]
  },
  {
   "cell_type": "markdown",
   "metadata": {},
   "source": [
    "# Decision trees"
   ]
  },
  {
   "cell_type": "code",
   "execution_count": null,
   "metadata": {},
   "outputs": [
    {
     "name": "stdout",
     "output_type": "stream",
     "text": [
      "Decision Tree max_depth=4: train_auc= 0.8140 and val_auc= 0.8101. Train_ap= 0.1386 and val_auc= 0.1265.\n",
      "Decision Tree max_depth=5: train_auc= 0.8171 and val_auc= 0.8182. Train_ap= 0.1549 and val_auc= 0.1457.\n",
      "Decision Tree max_depth=6: train_auc= 0.8314 and val_auc= 0.8336. Train_ap= 0.1695 and val_auc= 0.1554.\n",
      "Decision Tree max_depth=8: train_auc= 0.8384 and val_auc= 0.8363. Train_ap= 0.1924 and val_auc= 0.1595.\n",
      "Decision Tree max_depth=10: train_auc= 0.8428 and val_auc= 0.8252. Train_ap= 0.2161 and val_auc= 0.1442.\n"
     ]
    }
   ],
   "source": [
    "dt_train_aucs_list = []\n",
    "dt_val_aucs_list = []\n",
    "dt_train_aps_list = []\n",
    "dt_val_aps_list = []\n",
    "mds = [4, 5, 6, 8, 10]\n",
    "for md in mds:\n",
    "    dt=DecisionTreeClassifier(max_depth=md)\n",
    "    dt.fit(X_train[train_cols], y_train)\n",
    "    evaluate_model(\n",
    "        dt,\n",
    "        X_train[train_cols],\n",
    "        y_train,\n",
    "        X_val[train_cols],\n",
    "        y_val,\n",
    "        dt_train_aucs_list,\n",
    "        dt_val_aucs_list,\n",
    "        dt_train_aps_list,\n",
    "        dt_val_aps_list\n",
    "    )\n",
    "\n",
    "    print(\n",
    "        f\"Decision Tree max_depth={md}: train_auc= {dt_train_aucs_list[-1]:.4f} and val_auc= {dt_val_aucs_list[-1]:.4f}.\"\n",
    "        f\" Train_ap= {dt_train_aps_list[-1]:.4f} and val_ap= {dt_val_aps_list[-1]:.4f}.\"\n",
    "    )"
   ]
  },
  {
   "cell_type": "markdown",
   "metadata": {},
   "source": [
    "It can be seen that starting from a 'max_depth' of 8, the validation error begins to increase in the AP and with max_depth = 10 it is also apreciated in the ROC auc.\n",
    "The best result without overfitting is achieved with max_depth = 8."
   ]
  },
  {
   "cell_type": "code",
   "execution_count": 126,
   "metadata": {},
   "outputs": [
    {
     "data": {
      "text/html": [
       "<style>#sk-container-id-16 {\n",
       "  /* Definition of color scheme common for light and dark mode */\n",
       "  --sklearn-color-text: black;\n",
       "  --sklearn-color-line: gray;\n",
       "  /* Definition of color scheme for unfitted estimators */\n",
       "  --sklearn-color-unfitted-level-0: #fff5e6;\n",
       "  --sklearn-color-unfitted-level-1: #f6e4d2;\n",
       "  --sklearn-color-unfitted-level-2: #ffe0b3;\n",
       "  --sklearn-color-unfitted-level-3: chocolate;\n",
       "  /* Definition of color scheme for fitted estimators */\n",
       "  --sklearn-color-fitted-level-0: #f0f8ff;\n",
       "  --sklearn-color-fitted-level-1: #d4ebff;\n",
       "  --sklearn-color-fitted-level-2: #b3dbfd;\n",
       "  --sklearn-color-fitted-level-3: cornflowerblue;\n",
       "\n",
       "  /* Specific color for light theme */\n",
       "  --sklearn-color-text-on-default-background: var(--sg-text-color, var(--theme-code-foreground, var(--jp-content-font-color1, black)));\n",
       "  --sklearn-color-background: var(--sg-background-color, var(--theme-background, var(--jp-layout-color0, white)));\n",
       "  --sklearn-color-border-box: var(--sg-text-color, var(--theme-code-foreground, var(--jp-content-font-color1, black)));\n",
       "  --sklearn-color-icon: #696969;\n",
       "\n",
       "  @media (prefers-color-scheme: dark) {\n",
       "    /* Redefinition of color scheme for dark theme */\n",
       "    --sklearn-color-text-on-default-background: var(--sg-text-color, var(--theme-code-foreground, var(--jp-content-font-color1, white)));\n",
       "    --sklearn-color-background: var(--sg-background-color, var(--theme-background, var(--jp-layout-color0, #111)));\n",
       "    --sklearn-color-border-box: var(--sg-text-color, var(--theme-code-foreground, var(--jp-content-font-color1, white)));\n",
       "    --sklearn-color-icon: #878787;\n",
       "  }\n",
       "}\n",
       "\n",
       "#sk-container-id-16 {\n",
       "  color: var(--sklearn-color-text);\n",
       "}\n",
       "\n",
       "#sk-container-id-16 pre {\n",
       "  padding: 0;\n",
       "}\n",
       "\n",
       "#sk-container-id-16 input.sk-hidden--visually {\n",
       "  border: 0;\n",
       "  clip: rect(1px 1px 1px 1px);\n",
       "  clip: rect(1px, 1px, 1px, 1px);\n",
       "  height: 1px;\n",
       "  margin: -1px;\n",
       "  overflow: hidden;\n",
       "  padding: 0;\n",
       "  position: absolute;\n",
       "  width: 1px;\n",
       "}\n",
       "\n",
       "#sk-container-id-16 div.sk-dashed-wrapped {\n",
       "  border: 1px dashed var(--sklearn-color-line);\n",
       "  margin: 0 0.4em 0.5em 0.4em;\n",
       "  box-sizing: border-box;\n",
       "  padding-bottom: 0.4em;\n",
       "  background-color: var(--sklearn-color-background);\n",
       "}\n",
       "\n",
       "#sk-container-id-16 div.sk-container {\n",
       "  /* jupyter's `normalize.less` sets `[hidden] { display: none; }`\n",
       "     but bootstrap.min.css set `[hidden] { display: none !important; }`\n",
       "     so we also need the `!important` here to be able to override the\n",
       "     default hidden behavior on the sphinx rendered scikit-learn.org.\n",
       "     See: https://github.com/scikit-learn/scikit-learn/issues/21755 */\n",
       "  display: inline-block !important;\n",
       "  position: relative;\n",
       "}\n",
       "\n",
       "#sk-container-id-16 div.sk-text-repr-fallback {\n",
       "  display: none;\n",
       "}\n",
       "\n",
       "div.sk-parallel-item,\n",
       "div.sk-serial,\n",
       "div.sk-item {\n",
       "  /* draw centered vertical line to link estimators */\n",
       "  background-image: linear-gradient(var(--sklearn-color-text-on-default-background), var(--sklearn-color-text-on-default-background));\n",
       "  background-size: 2px 100%;\n",
       "  background-repeat: no-repeat;\n",
       "  background-position: center center;\n",
       "}\n",
       "\n",
       "/* Parallel-specific style estimator block */\n",
       "\n",
       "#sk-container-id-16 div.sk-parallel-item::after {\n",
       "  content: \"\";\n",
       "  width: 100%;\n",
       "  border-bottom: 2px solid var(--sklearn-color-text-on-default-background);\n",
       "  flex-grow: 1;\n",
       "}\n",
       "\n",
       "#sk-container-id-16 div.sk-parallel {\n",
       "  display: flex;\n",
       "  align-items: stretch;\n",
       "  justify-content: center;\n",
       "  background-color: var(--sklearn-color-background);\n",
       "  position: relative;\n",
       "}\n",
       "\n",
       "#sk-container-id-16 div.sk-parallel-item {\n",
       "  display: flex;\n",
       "  flex-direction: column;\n",
       "}\n",
       "\n",
       "#sk-container-id-16 div.sk-parallel-item:first-child::after {\n",
       "  align-self: flex-end;\n",
       "  width: 50%;\n",
       "}\n",
       "\n",
       "#sk-container-id-16 div.sk-parallel-item:last-child::after {\n",
       "  align-self: flex-start;\n",
       "  width: 50%;\n",
       "}\n",
       "\n",
       "#sk-container-id-16 div.sk-parallel-item:only-child::after {\n",
       "  width: 0;\n",
       "}\n",
       "\n",
       "/* Serial-specific style estimator block */\n",
       "\n",
       "#sk-container-id-16 div.sk-serial {\n",
       "  display: flex;\n",
       "  flex-direction: column;\n",
       "  align-items: center;\n",
       "  background-color: var(--sklearn-color-background);\n",
       "  padding-right: 1em;\n",
       "  padding-left: 1em;\n",
       "}\n",
       "\n",
       "\n",
       "/* Toggleable style: style used for estimator/Pipeline/ColumnTransformer box that is\n",
       "clickable and can be expanded/collapsed.\n",
       "- Pipeline and ColumnTransformer use this feature and define the default style\n",
       "- Estimators will overwrite some part of the style using the `sk-estimator` class\n",
       "*/\n",
       "\n",
       "/* Pipeline and ColumnTransformer style (default) */\n",
       "\n",
       "#sk-container-id-16 div.sk-toggleable {\n",
       "  /* Default theme specific background. It is overwritten whether we have a\n",
       "  specific estimator or a Pipeline/ColumnTransformer */\n",
       "  background-color: var(--sklearn-color-background);\n",
       "}\n",
       "\n",
       "/* Toggleable label */\n",
       "#sk-container-id-16 label.sk-toggleable__label {\n",
       "  cursor: pointer;\n",
       "  display: block;\n",
       "  width: 100%;\n",
       "  margin-bottom: 0;\n",
       "  padding: 0.5em;\n",
       "  box-sizing: border-box;\n",
       "  text-align: center;\n",
       "}\n",
       "\n",
       "#sk-container-id-16 label.sk-toggleable__label-arrow:before {\n",
       "  /* Arrow on the left of the label */\n",
       "  content: \"▸\";\n",
       "  float: left;\n",
       "  margin-right: 0.25em;\n",
       "  color: var(--sklearn-color-icon);\n",
       "}\n",
       "\n",
       "#sk-container-id-16 label.sk-toggleable__label-arrow:hover:before {\n",
       "  color: var(--sklearn-color-text);\n",
       "}\n",
       "\n",
       "/* Toggleable content - dropdown */\n",
       "\n",
       "#sk-container-id-16 div.sk-toggleable__content {\n",
       "  max-height: 0;\n",
       "  max-width: 0;\n",
       "  overflow: hidden;\n",
       "  text-align: left;\n",
       "  /* unfitted */\n",
       "  background-color: var(--sklearn-color-unfitted-level-0);\n",
       "}\n",
       "\n",
       "#sk-container-id-16 div.sk-toggleable__content.fitted {\n",
       "  /* fitted */\n",
       "  background-color: var(--sklearn-color-fitted-level-0);\n",
       "}\n",
       "\n",
       "#sk-container-id-16 div.sk-toggleable__content pre {\n",
       "  margin: 0.2em;\n",
       "  border-radius: 0.25em;\n",
       "  color: var(--sklearn-color-text);\n",
       "  /* unfitted */\n",
       "  background-color: var(--sklearn-color-unfitted-level-0);\n",
       "}\n",
       "\n",
       "#sk-container-id-16 div.sk-toggleable__content.fitted pre {\n",
       "  /* unfitted */\n",
       "  background-color: var(--sklearn-color-fitted-level-0);\n",
       "}\n",
       "\n",
       "#sk-container-id-16 input.sk-toggleable__control:checked~div.sk-toggleable__content {\n",
       "  /* Expand drop-down */\n",
       "  max-height: 200px;\n",
       "  max-width: 100%;\n",
       "  overflow: auto;\n",
       "}\n",
       "\n",
       "#sk-container-id-16 input.sk-toggleable__control:checked~label.sk-toggleable__label-arrow:before {\n",
       "  content: \"▾\";\n",
       "}\n",
       "\n",
       "/* Pipeline/ColumnTransformer-specific style */\n",
       "\n",
       "#sk-container-id-16 div.sk-label input.sk-toggleable__control:checked~label.sk-toggleable__label {\n",
       "  color: var(--sklearn-color-text);\n",
       "  background-color: var(--sklearn-color-unfitted-level-2);\n",
       "}\n",
       "\n",
       "#sk-container-id-16 div.sk-label.fitted input.sk-toggleable__control:checked~label.sk-toggleable__label {\n",
       "  background-color: var(--sklearn-color-fitted-level-2);\n",
       "}\n",
       "\n",
       "/* Estimator-specific style */\n",
       "\n",
       "/* Colorize estimator box */\n",
       "#sk-container-id-16 div.sk-estimator input.sk-toggleable__control:checked~label.sk-toggleable__label {\n",
       "  /* unfitted */\n",
       "  background-color: var(--sklearn-color-unfitted-level-2);\n",
       "}\n",
       "\n",
       "#sk-container-id-16 div.sk-estimator.fitted input.sk-toggleable__control:checked~label.sk-toggleable__label {\n",
       "  /* fitted */\n",
       "  background-color: var(--sklearn-color-fitted-level-2);\n",
       "}\n",
       "\n",
       "#sk-container-id-16 div.sk-label label.sk-toggleable__label,\n",
       "#sk-container-id-16 div.sk-label label {\n",
       "  /* The background is the default theme color */\n",
       "  color: var(--sklearn-color-text-on-default-background);\n",
       "}\n",
       "\n",
       "/* On hover, darken the color of the background */\n",
       "#sk-container-id-16 div.sk-label:hover label.sk-toggleable__label {\n",
       "  color: var(--sklearn-color-text);\n",
       "  background-color: var(--sklearn-color-unfitted-level-2);\n",
       "}\n",
       "\n",
       "/* Label box, darken color on hover, fitted */\n",
       "#sk-container-id-16 div.sk-label.fitted:hover label.sk-toggleable__label.fitted {\n",
       "  color: var(--sklearn-color-text);\n",
       "  background-color: var(--sklearn-color-fitted-level-2);\n",
       "}\n",
       "\n",
       "/* Estimator label */\n",
       "\n",
       "#sk-container-id-16 div.sk-label label {\n",
       "  font-family: monospace;\n",
       "  font-weight: bold;\n",
       "  display: inline-block;\n",
       "  line-height: 1.2em;\n",
       "}\n",
       "\n",
       "#sk-container-id-16 div.sk-label-container {\n",
       "  text-align: center;\n",
       "}\n",
       "\n",
       "/* Estimator-specific */\n",
       "#sk-container-id-16 div.sk-estimator {\n",
       "  font-family: monospace;\n",
       "  border: 1px dotted var(--sklearn-color-border-box);\n",
       "  border-radius: 0.25em;\n",
       "  box-sizing: border-box;\n",
       "  margin-bottom: 0.5em;\n",
       "  /* unfitted */\n",
       "  background-color: var(--sklearn-color-unfitted-level-0);\n",
       "}\n",
       "\n",
       "#sk-container-id-16 div.sk-estimator.fitted {\n",
       "  /* fitted */\n",
       "  background-color: var(--sklearn-color-fitted-level-0);\n",
       "}\n",
       "\n",
       "/* on hover */\n",
       "#sk-container-id-16 div.sk-estimator:hover {\n",
       "  /* unfitted */\n",
       "  background-color: var(--sklearn-color-unfitted-level-2);\n",
       "}\n",
       "\n",
       "#sk-container-id-16 div.sk-estimator.fitted:hover {\n",
       "  /* fitted */\n",
       "  background-color: var(--sklearn-color-fitted-level-2);\n",
       "}\n",
       "\n",
       "/* Specification for estimator info (e.g. \"i\" and \"?\") */\n",
       "\n",
       "/* Common style for \"i\" and \"?\" */\n",
       "\n",
       ".sk-estimator-doc-link,\n",
       "a:link.sk-estimator-doc-link,\n",
       "a:visited.sk-estimator-doc-link {\n",
       "  float: right;\n",
       "  font-size: smaller;\n",
       "  line-height: 1em;\n",
       "  font-family: monospace;\n",
       "  background-color: var(--sklearn-color-background);\n",
       "  border-radius: 1em;\n",
       "  height: 1em;\n",
       "  width: 1em;\n",
       "  text-decoration: none !important;\n",
       "  margin-left: 1ex;\n",
       "  /* unfitted */\n",
       "  border: var(--sklearn-color-unfitted-level-1) 1pt solid;\n",
       "  color: var(--sklearn-color-unfitted-level-1);\n",
       "}\n",
       "\n",
       ".sk-estimator-doc-link.fitted,\n",
       "a:link.sk-estimator-doc-link.fitted,\n",
       "a:visited.sk-estimator-doc-link.fitted {\n",
       "  /* fitted */\n",
       "  border: var(--sklearn-color-fitted-level-1) 1pt solid;\n",
       "  color: var(--sklearn-color-fitted-level-1);\n",
       "}\n",
       "\n",
       "/* On hover */\n",
       "div.sk-estimator:hover .sk-estimator-doc-link:hover,\n",
       ".sk-estimator-doc-link:hover,\n",
       "div.sk-label-container:hover .sk-estimator-doc-link:hover,\n",
       ".sk-estimator-doc-link:hover {\n",
       "  /* unfitted */\n",
       "  background-color: var(--sklearn-color-unfitted-level-3);\n",
       "  color: var(--sklearn-color-background);\n",
       "  text-decoration: none;\n",
       "}\n",
       "\n",
       "div.sk-estimator.fitted:hover .sk-estimator-doc-link.fitted:hover,\n",
       ".sk-estimator-doc-link.fitted:hover,\n",
       "div.sk-label-container:hover .sk-estimator-doc-link.fitted:hover,\n",
       ".sk-estimator-doc-link.fitted:hover {\n",
       "  /* fitted */\n",
       "  background-color: var(--sklearn-color-fitted-level-3);\n",
       "  color: var(--sklearn-color-background);\n",
       "  text-decoration: none;\n",
       "}\n",
       "\n",
       "/* Span, style for the box shown on hovering the info icon */\n",
       ".sk-estimator-doc-link span {\n",
       "  display: none;\n",
       "  z-index: 9999;\n",
       "  position: relative;\n",
       "  font-weight: normal;\n",
       "  right: .2ex;\n",
       "  padding: .5ex;\n",
       "  margin: .5ex;\n",
       "  width: min-content;\n",
       "  min-width: 20ex;\n",
       "  max-width: 50ex;\n",
       "  color: var(--sklearn-color-text);\n",
       "  box-shadow: 2pt 2pt 4pt #999;\n",
       "  /* unfitted */\n",
       "  background: var(--sklearn-color-unfitted-level-0);\n",
       "  border: .5pt solid var(--sklearn-color-unfitted-level-3);\n",
       "}\n",
       "\n",
       ".sk-estimator-doc-link.fitted span {\n",
       "  /* fitted */\n",
       "  background: var(--sklearn-color-fitted-level-0);\n",
       "  border: var(--sklearn-color-fitted-level-3);\n",
       "}\n",
       "\n",
       ".sk-estimator-doc-link:hover span {\n",
       "  display: block;\n",
       "}\n",
       "\n",
       "/* \"?\"-specific style due to the `<a>` HTML tag */\n",
       "\n",
       "#sk-container-id-16 a.estimator_doc_link {\n",
       "  float: right;\n",
       "  font-size: 1rem;\n",
       "  line-height: 1em;\n",
       "  font-family: monospace;\n",
       "  background-color: var(--sklearn-color-background);\n",
       "  border-radius: 1rem;\n",
       "  height: 1rem;\n",
       "  width: 1rem;\n",
       "  text-decoration: none;\n",
       "  /* unfitted */\n",
       "  color: var(--sklearn-color-unfitted-level-1);\n",
       "  border: var(--sklearn-color-unfitted-level-1) 1pt solid;\n",
       "}\n",
       "\n",
       "#sk-container-id-16 a.estimator_doc_link.fitted {\n",
       "  /* fitted */\n",
       "  border: var(--sklearn-color-fitted-level-1) 1pt solid;\n",
       "  color: var(--sklearn-color-fitted-level-1);\n",
       "}\n",
       "\n",
       "/* On hover */\n",
       "#sk-container-id-16 a.estimator_doc_link:hover {\n",
       "  /* unfitted */\n",
       "  background-color: var(--sklearn-color-unfitted-level-3);\n",
       "  color: var(--sklearn-color-background);\n",
       "  text-decoration: none;\n",
       "}\n",
       "\n",
       "#sk-container-id-16 a.estimator_doc_link.fitted:hover {\n",
       "  /* fitted */\n",
       "  background-color: var(--sklearn-color-fitted-level-3);\n",
       "}\n",
       "</style><div id=\"sk-container-id-16\" class=\"sk-top-container\"><div class=\"sk-text-repr-fallback\"><pre>DecisionTreeClassifier(max_depth=8)</pre><b>In a Jupyter environment, please rerun this cell to show the HTML representation or trust the notebook. <br />On GitHub, the HTML representation is unable to render, please try loading this page with nbviewer.org.</b></div><div class=\"sk-container\" hidden><div class=\"sk-item\"><div class=\"sk-estimator fitted sk-toggleable\"><input class=\"sk-toggleable__control sk-hidden--visually\" id=\"sk-estimator-id-42\" type=\"checkbox\" checked><label for=\"sk-estimator-id-42\" class=\"sk-toggleable__label fitted sk-toggleable__label-arrow fitted\">&nbsp;&nbsp;DecisionTreeClassifier<a class=\"sk-estimator-doc-link fitted\" rel=\"noreferrer\" target=\"_blank\" href=\"https://scikit-learn.org/1.5/modules/generated/sklearn.tree.DecisionTreeClassifier.html\">?<span>Documentation for DecisionTreeClassifier</span></a><span class=\"sk-estimator-doc-link fitted\">i<span>Fitted</span></span></label><div class=\"sk-toggleable__content fitted\"><pre>DecisionTreeClassifier(max_depth=8)</pre></div> </div></div></div></div>"
      ],
      "text/plain": [
       "DecisionTreeClassifier(max_depth=8)"
      ]
     },
     "execution_count": 126,
     "metadata": {},
     "output_type": "execute_result"
    }
   ],
   "source": [
    "dt = DecisionTreeClassifier(max_depth=8)\n",
    "dt.fit(X_train[train_cols],y_train)"
   ]
  },
  {
   "cell_type": "code",
   "execution_count": 142,
   "metadata": {},
   "outputs": [
    {
     "data": {
      "image/png": "[encoded data removed]",
      "text/plain": [
       "<Figure size 640x480 with 1 Axes>"
      ]
     },
     "metadata": {},
     "output_type": "display_data"
    }
   ],
   "source": [
    "dt_fi, fig, ax = plot_feature_importance(dt,train_cols)"
   ]
  },
  {
   "cell_type": "markdown",
   "metadata": {},
   "source": [
    "I'm going to drop the variables after 'count_babies'"
   ]
  },
  {
   "cell_type": "code",
   "execution_count": 147,
   "metadata": {},
   "outputs": [],
   "source": [
    "filtered_cols = [\n",
    "    \"abandoned_before\",\n",
    "    \"active_snoozed\",\n",
    "    \"global_popularity\",\n",
    "    \"days_since_purchase_product_type\",\n",
    "    \"std_days_to_buy_variant_id\",\n",
    "    \"avg_days_to_buy_product_type\",\n",
    "    \"avg_days_to_buy_variant_id\",\n",
    "    \"discount_pct\",\n",
    "    \"user_order_seq\",\n",
    "    \"normalised_price\",\n",
    "    \"days_since_purchase_variant_id\",\n",
    "    \"std_days_to_buy_product_type\"\n",
    "]\n"
   ]
  },
  {
   "cell_type": "code",
   "execution_count": null,
   "metadata": {},
   "outputs": [
    {
     "name": "stdout",
     "output_type": "stream",
     "text": [
      "Decision Tree max_depth=4: train_auc= 0.7423 and val_auc= 0.7451. Train_ap= 0.1230 and val_auc= 0.1199.\n",
      "Decision Tree max_depth=5: train_auc= 0.7996 and val_auc= 0.8056. Train_ap= 0.1413 and val_auc= 0.1406.\n",
      "Decision Tree max_depth=6: train_auc= 0.8135 and val_auc= 0.8212. Train_ap= 0.1537 and val_auc= 0.1515.\n",
      "Decision Tree max_depth=8: train_auc= 0.8248 and val_auc= 0.8286. Train_ap= 0.1757 and val_auc= 0.1634.\n",
      "Decision Tree max_depth=10: train_auc= 0.8297 and val_auc= 0.8276. Train_ap= 0.1971 and val_auc= 0.1469.\n"
     ]
    }
   ],
   "source": [
    "dt_train_aucs_list = []\n",
    "dt_val_aucs_list = []\n",
    "dt_train_aps_list = []\n",
    "dt_val_aps_list = []\n",
    "mds = [4, 5, 6, 8, 10]\n",
    "for md in mds:\n",
    "    dt=DecisionTreeClassifier(max_depth=md)\n",
    "    dt.fit(X_train[filtered_cols], y_train)\n",
    "    evaluate_model(\n",
    "        dt,\n",
    "        X_train[filtered_cols],\n",
    "        y_train,\n",
    "        X_val[filtered_cols],\n",
    "        y_val,\n",
    "        dt_train_aucs_list,\n",
    "        dt_val_aucs_list,\n",
    "        dt_train_aps_list,\n",
    "        dt_val_aps_list\n",
    "    )\n",
    "\n",
    "    print(\n",
    "        f\"Decision Tree max_depth={md}: train_auc= {dt_train_aucs_list[-1]:.4f} and val_auc= {dt_val_aucs_list[-1]:.4f}.\"\n",
    "        f\" Train_ap= {dt_train_aps_list[-1]:.4f} and val_ap= {dt_val_aps_list[-1]:.4f}.\"\n",
    "    )"
   ]
  },
  {
   "cell_type": "markdown",
   "metadata": {},
   "source": [
    "El que presenta mejor resultado de nuevo es el de max_depth = 8, e incluso mejor que sin el feature importance"
   ]
  },
  {
   "cell_type": "markdown",
   "metadata": {},
   "source": [
    "# Random Forest"
   ]
  },
  {
   "cell_type": "markdown",
   "metadata": {},
   "source": [
    "I'm going to try with maximun depth of the trees and different number of trees"
   ]
  },
  {
   "cell_type": "code",
   "execution_count": 185,
   "metadata": {},
   "outputs": [
    {
     "name": "stdout",
     "output_type": "stream",
     "text": [
      "Random Forest n_trees=5: train_auc= 0.9900 and val_auc= 0.6530. Train_ap= 0.7722 and val_ap= 0.0824.\n",
      "Random Forest n_trees=25: train_auc= 0.9953 and val_auc= 0.7360. Train_ap= 0.8543 and val_ap= 0.1318.\n",
      "Random Forest n_trees=50: train_auc= 0.9957 and val_auc= 0.7579. Train_ap= 0.8617 and val_ap= 0.1405.\n",
      "Random Forest n_trees=100: train_auc= 0.9958 and val_auc= 0.7769. Train_ap= 0.8650 and val_ap= 0.1474.\n",
      "Random Forest n_trees=120: train_auc= 0.9959 and val_auc= 0.7800. Train_ap= 0.8653 and val_ap= 0.1463.\n"
     ]
    }
   ],
   "source": [
    "rf_train_aucs_list = []\n",
    "rf_val_aucs_list = []\n",
    "rf_train_aps_list = []\n",
    "rf_val_aps_list = []\n",
    "n_trees = [5, 25, 50, 100, 120]\n",
    "for n_tree in n_trees:\n",
    "    rf=RandomForestClassifier(n_estimators=n_tree)\n",
    "    rf.fit(X_train[train_cols], y_train)\n",
    "    evaluate_model(\n",
    "        rf,\n",
    "        X_train[train_cols],\n",
    "        y_train,\n",
    "        X_val[train_cols],\n",
    "        y_val,\n",
    "        rf_train_aucs_list,\n",
    "        rf_val_aucs_list,\n",
    "        rf_train_aps_list,\n",
    "        rf_val_aps_list\n",
    "    )\n",
    "\n",
    "    print(\n",
    "        f\"Random Forest n_trees={n_tree}: train_auc= {rf_train_aucs_list[-1]:.4f} and val_auc= {rf_val_aucs_list[-1]:.4f}.\"\n",
    "        f\" Train_ap= {rf_train_aps_list[-1]:.4f} and val_ap= {rf_val_aps_list[-1]:.4f}.\"\n",
    "    )\n"
   ]
  },
  {
   "cell_type": "markdown",
   "metadata": {},
   "source": [
    "El mejor resultado se encuentra con n_trees = 100. Estudio el feature importance para esa configuración"
   ]
  },
  {
   "cell_type": "code",
   "execution_count": 186,
   "metadata": {},
   "outputs": [
    {
     "data": {
      "image/png": "[encoded data removed]",
      "text/plain": [
       "<Figure size 640x480 with 1 Axes>"
      ]
     },
     "metadata": {},
     "output_type": "display_data"
    }
   ],
   "source": [
    "rf = RandomForestClassifier(n_estimators=100)\n",
    "rf.fit(X_train[train_cols],y_train)\n",
    "rf_fi, fig, ax = plot_feature_importance(rf,train_cols)"
   ]
  },
  {
   "cell_type": "markdown",
   "metadata": {},
   "source": [
    "Suprimo las 5 últimas y reentreno"
   ]
  },
  {
   "cell_type": "code",
   "execution_count": 194,
   "metadata": {},
   "outputs": [
    {
     "data": {
      "text/plain": [
       "7                           count_pets\n",
       "13        avg_days_to_buy_product_type\n",
       "14        std_days_to_buy_product_type\n",
       "1                     normalised_price\n",
       "16                      ordered_before\n",
       "2                         discount_pct\n",
       "10          avg_days_to_buy_variant_id\n",
       "15                       month_created\n",
       "9       days_since_purchase_variant_id\n",
       "17                    abandoned_before\n",
       "11          std_days_to_buy_variant_id\n",
       "0                       user_order_seq\n",
       "12    days_since_purchase_product_type\n",
       "3                    global_popularity\n",
       "Name: features, dtype: object"
      ]
     },
     "execution_count": 194,
     "metadata": {},
     "output_type": "execute_result"
    }
   ],
   "source": [
    "rf_filtered_columns = rf_fi[\"features\"].iloc[-14:]\n",
    "rf_filtered_columns"
   ]
  },
  {
   "cell_type": "code",
   "execution_count": 192,
   "metadata": {},
   "outputs": [
    {
     "name": "stdout",
     "output_type": "stream",
     "text": [
      "Random Forest n_trees=5: train_auc= 0.9900 and val_auc= 0.6320. Train_ap= 0.7642 and val_ap= 0.0736.\n",
      "Random Forest n_trees=25: train_auc= 0.9950 and val_auc= 0.7167. Train_ap= 0.8464 and val_ap= 0.1149.\n",
      "Random Forest n_trees=50: train_auc= 0.9954 and val_auc= 0.7455. Train_ap= 0.8538 and val_ap= 0.1264.\n",
      "Random Forest n_trees=100: train_auc= 0.9956 and val_auc= 0.7684. Train_ap= 0.8570 and val_ap= 0.1317.\n",
      "Random Forest n_trees=120: train_auc= 0.9956 and val_auc= 0.7693. Train_ap= 0.8577 and val_ap= 0.1309.\n"
     ]
    }
   ],
   "source": [
    "rf_train_aucs_list = []\n",
    "rf_val_aucs_list = []\n",
    "rf_train_aps_list = []\n",
    "rf_val_aps_list = []\n",
    "n_trees = [5, 25, 50, 100, 120]\n",
    "for n_tree in n_trees:\n",
    "    rf=RandomForestClassifier(n_estimators=n_tree)\n",
    "    rf.fit(X_train[rf_filtered_columns], y_train)\n",
    "    evaluate_model(\n",
    "        rf,\n",
    "        X_train[rf_filtered_columns],\n",
    "        y_train,\n",
    "        X_val[rf_filtered_columns],\n",
    "        y_val,\n",
    "        rf_train_aucs_list,\n",
    "        rf_val_aucs_list,\n",
    "        rf_train_aps_list,\n",
    "        rf_val_aps_list\n",
    "    )\n",
    "\n",
    "    print(\n",
    "        f\"Random Forest n_trees={n_tree}: train_auc= {rf_train_aucs_list[-1]:.4f} and val_auc= {rf_val_aucs_list[-1]:.4f}.\"\n",
    "        f\" Train_ap= {rf_train_aps_list[-1]:.4f} and val_ap= {rf_val_aps_list[-1]:.4f}.\"\n",
    "    )"
   ]
  },
  {
   "cell_type": "markdown",
   "metadata": {},
   "source": [
    "Ha empeorado suprimiendo esas variables"
   ]
  },
  {
   "cell_type": "markdown",
   "metadata": {},
   "source": [
    "# XGBoost"
   ]
  },
  {
   "cell_type": "code",
   "execution_count": 199,
   "metadata": {},
   "outputs": [
    {
     "name": "stdout",
     "output_type": "stream",
     "text": [
      "XGBoost n_trees=100, max_depth = 5, learning_rate = 0.05 :train_auc= 0.8441 and val_auc= 0.8460. Train_ap= 0.2112 and val_ap= 0.1965.\n",
      "XGBoost n_trees=120, max_depth = 5, learning_rate = 0.05 :train_auc= 0.8454 and val_auc= 0.8465. Train_ap= 0.2134 and val_ap= 0.1971.\n",
      "XGBoost n_trees=150, max_depth = 5, learning_rate = 0.05 :train_auc= 0.8470 and val_auc= 0.8469. Train_ap= 0.2160 and val_ap= 0.1973.\n",
      "XGBoost n_trees=170, max_depth = 5, learning_rate = 0.05 :train_auc= 0.8480 and val_auc= 0.8469. Train_ap= 0.2177 and val_ap= 0.1972.\n",
      "XGBoost n_trees=200, max_depth = 5, learning_rate = 0.05 :train_auc= 0.8492 and val_auc= 0.8466. Train_ap= 0.2207 and val_ap= 0.1972.\n",
      "XGBoost n_trees=100, max_depth = 7, learning_rate = 0.05 :train_auc= 0.8497 and val_auc= 0.8475. Train_ap= 0.2358 and val_ap= 0.1996.\n",
      "XGBoost n_trees=120, max_depth = 7, learning_rate = 0.05 :train_auc= 0.8512 and val_auc= 0.8475. Train_ap= 0.2390 and val_ap= 0.1991.\n",
      "XGBoost n_trees=150, max_depth = 7, learning_rate = 0.05 :train_auc= 0.8533 and val_auc= 0.8471. Train_ap= 0.2430 and val_ap= 0.1983.\n",
      "XGBoost n_trees=170, max_depth = 7, learning_rate = 0.05 :train_auc= 0.8542 and val_auc= 0.8468. Train_ap= 0.2452 and val_ap= 0.1982.\n",
      "XGBoost n_trees=200, max_depth = 7, learning_rate = 0.05 :train_auc= 0.8564 and val_auc= 0.8462. Train_ap= 0.2505 and val_ap= 0.1982.\n",
      "XGBoost n_trees=100, max_depth = 10, learning_rate = 0.05 :train_auc= 0.8646 and val_auc= 0.8462. Train_ap= 0.2881 and val_ap= 0.1949.\n",
      "XGBoost n_trees=120, max_depth = 10, learning_rate = 0.05 :train_auc= 0.8669 and val_auc= 0.8460. Train_ap= 0.2936 and val_ap= 0.1940.\n",
      "XGBoost n_trees=150, max_depth = 10, learning_rate = 0.05 :train_auc= 0.8697 and val_auc= 0.8452. Train_ap= 0.2998 and val_ap= 0.1927.\n",
      "XGBoost n_trees=170, max_depth = 10, learning_rate = 0.05 :train_auc= 0.8716 and val_auc= 0.8446. Train_ap= 0.3048 and val_ap= 0.1921.\n",
      "XGBoost n_trees=200, max_depth = 10, learning_rate = 0.05 :train_auc= 0.8746 and val_auc= 0.8438. Train_ap= 0.3117 and val_ap= 0.1912.\n",
      "XGBoost n_trees=100, max_depth = 12, learning_rate = 0.05 :train_auc= 0.8809 and val_auc= 0.8444. Train_ap= 0.3381 and val_ap= 0.1867.\n",
      "XGBoost n_trees=120, max_depth = 12, learning_rate = 0.05 :train_auc= 0.8845 and val_auc= 0.8436. Train_ap= 0.3459 and val_ap= 0.1857.\n",
      "XGBoost n_trees=150, max_depth = 12, learning_rate = 0.05 :train_auc= 0.8881 and val_auc= 0.8420. Train_ap= 0.3538 and val_ap= 0.1842.\n",
      "XGBoost n_trees=170, max_depth = 12, learning_rate = 0.05 :train_auc= 0.8902 and val_auc= 0.8415. Train_ap= 0.3590 and val_ap= 0.1837.\n",
      "XGBoost n_trees=200, max_depth = 12, learning_rate = 0.05 :train_auc= 0.8938 and val_auc= 0.8403. Train_ap= 0.3704 and val_ap= 0.1831.\n",
      "XGBoost n_trees=100, max_depth = 15, learning_rate = 0.05 :train_auc= 0.9109 and val_auc= 0.8407. Train_ap= 0.4242 and val_ap= 0.1770.\n",
      "XGBoost n_trees=120, max_depth = 15, learning_rate = 0.05 :train_auc= 0.9155 and val_auc= 0.8396. Train_ap= 0.4367 and val_ap= 0.1760.\n",
      "XGBoost n_trees=150, max_depth = 15, learning_rate = 0.05 :train_auc= 0.9195 and val_auc= 0.8368. Train_ap= 0.4480 and val_ap= 0.1749.\n",
      "XGBoost n_trees=170, max_depth = 15, learning_rate = 0.05 :train_auc= 0.9212 and val_auc= 0.8355. Train_ap= 0.4550 and val_ap= 0.1739.\n",
      "XGBoost n_trees=200, max_depth = 15, learning_rate = 0.05 :train_auc= 0.9245 and val_auc= 0.8330. Train_ap= 0.4674 and val_ap= 0.1719.\n",
      "XGBoost n_trees=100, max_depth = 5, learning_rate = 0.01 :train_auc= 0.8355 and val_auc= 0.8388. Train_ap= 0.1941 and val_ap= 0.1804.\n",
      "XGBoost n_trees=120, max_depth = 5, learning_rate = 0.01 :train_auc= 0.8355 and val_auc= 0.8388. Train_ap= 0.1954 and val_ap= 0.1820.\n",
      "XGBoost n_trees=150, max_depth = 5, learning_rate = 0.01 :train_auc= 0.8371 and val_auc= 0.8410. Train_ap= 0.1974 and val_ap= 0.1845.\n",
      "XGBoost n_trees=170, max_depth = 5, learning_rate = 0.01 :train_auc= 0.8375 and val_auc= 0.8412. Train_ap= 0.1991 and val_ap= 0.1847.\n",
      "XGBoost n_trees=200, max_depth = 5, learning_rate = 0.01 :train_auc= 0.8379 and val_auc= 0.8418. Train_ap= 0.2011 and val_ap= 0.1873.\n",
      "XGBoost n_trees=100, max_depth = 7, learning_rate = 0.01 :train_auc= 0.8400 and val_auc= 0.8425. Train_ap= 0.2128 and val_ap= 0.1881.\n",
      "XGBoost n_trees=120, max_depth = 7, learning_rate = 0.01 :train_auc= 0.8403 and val_auc= 0.8427. Train_ap= 0.2143 and val_ap= 0.1897.\n",
      "XGBoost n_trees=150, max_depth = 7, learning_rate = 0.01 :train_auc= 0.8407 and val_auc= 0.8430. Train_ap= 0.2167 and val_ap= 0.1923.\n",
      "XGBoost n_trees=170, max_depth = 7, learning_rate = 0.01 :train_auc= 0.8413 and val_auc= 0.8438. Train_ap= 0.2191 and val_ap= 0.1934.\n",
      "XGBoost n_trees=200, max_depth = 7, learning_rate = 0.01 :train_auc= 0.8420 and val_auc= 0.8442. Train_ap= 0.2212 and val_ap= 0.1951.\n",
      "XGBoost n_trees=100, max_depth = 10, learning_rate = 0.01 :train_auc= 0.8464 and val_auc= 0.8444. Train_ap= 0.2416 and val_ap= 0.1921.\n",
      "XGBoost n_trees=120, max_depth = 10, learning_rate = 0.01 :train_auc= 0.8473 and val_auc= 0.8448. Train_ap= 0.2444 and val_ap= 0.1930.\n",
      "XGBoost n_trees=150, max_depth = 10, learning_rate = 0.01 :train_auc= 0.8483 and val_auc= 0.8450. Train_ap= 0.2486 and val_ap= 0.1940.\n",
      "XGBoost n_trees=170, max_depth = 10, learning_rate = 0.01 :train_auc= 0.8493 and val_auc= 0.8455. Train_ap= 0.2529 and val_ap= 0.1950.\n",
      "XGBoost n_trees=200, max_depth = 10, learning_rate = 0.01 :train_auc= 0.8504 and val_auc= 0.8455. Train_ap= 0.2573 and val_ap= 0.1953.\n",
      "XGBoost n_trees=100, max_depth = 12, learning_rate = 0.01 :train_auc= 0.8528 and val_auc= 0.8446. Train_ap= 0.2694 and val_ap= 0.1864.\n",
      "XGBoost n_trees=120, max_depth = 12, learning_rate = 0.01 :train_auc= 0.8542 and val_auc= 0.8446. Train_ap= 0.2737 and val_ap= 0.1876.\n",
      "XGBoost n_trees=150, max_depth = 12, learning_rate = 0.01 :train_auc= 0.8560 and val_auc= 0.8446. Train_ap= 0.2794 and val_ap= 0.1888.\n",
      "XGBoost n_trees=170, max_depth = 12, learning_rate = 0.01 :train_auc= 0.8579 and val_auc= 0.8450. Train_ap= 0.2845 and val_ap= 0.1890.\n",
      "XGBoost n_trees=200, max_depth = 12, learning_rate = 0.01 :train_auc= 0.8600 and val_auc= 0.8451. Train_ap= 0.2910 and val_ap= 0.1885.\n",
      "XGBoost n_trees=100, max_depth = 15, learning_rate = 0.01 :train_auc= 0.8648 and val_auc= 0.8434. Train_ap= 0.3231 and val_ap= 0.1770.\n",
      "XGBoost n_trees=120, max_depth = 15, learning_rate = 0.01 :train_auc= 0.8675 and val_auc= 0.8429. Train_ap= 0.3309 and val_ap= 0.1786.\n",
      "XGBoost n_trees=150, max_depth = 15, learning_rate = 0.01 :train_auc= 0.8716 and val_auc= 0.8425. Train_ap= 0.3408 and val_ap= 0.1795.\n",
      "XGBoost n_trees=170, max_depth = 15, learning_rate = 0.01 :train_auc= 0.8753 and val_auc= 0.8431. Train_ap= 0.3488 and val_ap= 0.1804.\n",
      "XGBoost n_trees=200, max_depth = 15, learning_rate = 0.01 :train_auc= 0.8789 and val_auc= 0.8432. Train_ap= 0.3597 and val_ap= 0.1796.\n"
     ]
    }
   ],
   "source": [
    "n_trees_grid = [100, 120, 150, 170, 200]\n",
    "xg_train_aucs_list = []\n",
    "xg_val_aucs_list = []\n",
    "xg_train_aps_list = []\n",
    "xg_val_aps_list = []\n",
    "\n",
    "for lr in [0.05,0.01]:\n",
    "    for depth in [5, 7, 10, 12, 15]:\n",
    "        for n_tree in n_trees_grid:\n",
    "            xg=XGBClassifier(max_depth = depth, learning_rate = lr, n_estimators=n_tree)\n",
    "            xg.fit(X_train[train_cols], y_train)\n",
    "            evaluate_model(\n",
    "                xg,\n",
    "                X_train[train_cols],\n",
    "                y_train,\n",
    "                X_val[train_cols],\n",
    "                y_val,\n",
    "                xg_train_aucs_list,\n",
    "                xg_val_aucs_list,\n",
    "                xg_train_aps_list,\n",
    "                xg_val_aps_list\n",
    "            )\n",
    "\n",
    "            print(\n",
    "                f\"XGBoost n_trees={n_tree}, max_depth = {depth}, learning_rate = {lr} :\" \n",
    "                f\"train_auc= {xg_train_aucs_list[-1]:.4f} and val_auc= {xg_val_aucs_list[-1]:.4f}.\"\n",
    "                f\" Train_ap= {xg_train_aps_list[-1]:.4f} and val_ap= {xg_val_aps_list[-1]:.4f}.\"\n",
    "            )"
   ]
  },
  {
   "cell_type": "markdown",
   "metadata": {},
   "source": [
    "Pruebo con Random Search en vez de Grid Search"
   ]
  },
  {
   "cell_type": "code",
   "execution_count": 202,
   "metadata": {},
   "outputs": [
    {
     "name": "stdout",
     "output_type": "stream",
     "text": [
      "XGBoost n_trees=250, max_depth = 5, learning_rate = 0.1 :train_auc= 0.8576 and val_auc= 0.8435. Train_ap= 0.2411 and val_ap= 0.1938.\n",
      "XGBoost n_trees=150, max_depth = 12, learning_rate = 0.08 :train_auc= 0.8989 and val_auc= 0.8376. Train_ap= 0.3839 and val_ap= 0.1815.\n",
      "XGBoost n_trees=150, max_depth = 12, learning_rate = 0.01 :train_auc= 0.8560 and val_auc= 0.8446. Train_ap= 0.2794 and val_ap= 0.1888.\n",
      "XGBoost n_trees=250, max_depth = 12, learning_rate = 0.2 :train_auc= 0.9553 and val_auc= 0.8000. Train_ap= 0.5869 and val_ap= 0.1451.\n",
      "XGBoost n_trees=50, max_depth = 15, learning_rate = 0.05 :train_auc= 0.8866 and val_auc= 0.8433. Train_ap= 0.3728 and val_ap= 0.1799.\n",
      "XGBoost n_trees=150, max_depth = 15, learning_rate = 0.08 :train_auc= 0.9321 and val_auc= 0.8285. Train_ap= 0.4939 and val_ap= 0.1686.\n",
      "XGBoost n_trees=150, max_depth = 20, learning_rate = 0.08 :train_auc= 0.9684 and val_auc= 0.8165. Train_ap= 0.6455 and val_ap= 0.1516.\n",
      "XGBoost n_trees=200, max_depth = 15, learning_rate = 0.2 :train_auc= 0.9717 and val_auc= 0.7893. Train_ap= 0.6765 and val_ap= 0.1339.\n",
      "XGBoost n_trees=50, max_depth = 5, learning_rate = 0.05 :train_auc= 0.8396 and val_auc= 0.8436. Train_ap= 0.2041 and val_ap= 0.1911.\n",
      "XGBoost n_trees=250, max_depth = 10, learning_rate = 0.2 :train_auc= 0.9332 and val_auc= 0.8100. Train_ap= 0.4935 and val_ap= 0.1586.\n",
      "XGBoost n_trees=100, max_depth = 7, learning_rate = 0.2 :train_auc= 0.8668 and val_auc= 0.8428. Train_ap= 0.2785 and val_ap= 0.1879.\n",
      "XGBoost n_trees=50, max_depth = 10, learning_rate = 0.05 :train_auc= 0.8531 and val_auc= 0.8457. Train_ap= 0.2636 and val_ap= 0.1963.\n",
      "XGBoost n_trees=50, max_depth = 15, learning_rate = 0.08 :train_auc= 0.9037 and val_auc= 0.8415. Train_ap= 0.4108 and val_ap= 0.1772.\n",
      "XGBoost n_trees=200, max_depth = 12, learning_rate = 0.1 :train_auc= 0.9184 and val_auc= 0.8290. Train_ap= 0.4506 and val_ap= 0.1721.\n",
      "XGBoost n_trees=150, max_depth = 30, learning_rate = 0.1 :train_auc= 0.9913 and val_auc= 0.8039. Train_ap= 0.7985 and val_ap= 0.1329.\n",
      "XGBoost n_trees=100, max_depth = 25, learning_rate = 0.08 :train_auc= 0.9808 and val_auc= 0.8192. Train_ap= 0.7071 and val_ap= 0.1503.\n",
      "XGBoost n_trees=250, max_depth = 20, learning_rate = 0.2 :train_auc= 0.9920 and val_auc= 0.7772. Train_ap= 0.8087 and val_ap= 0.1174.\n",
      "XGBoost n_trees=100, max_depth = 18, learning_rate = 0.01 :train_auc= 0.8771 and val_auc= 0.8403. Train_ap= 0.3754 and val_ap= 0.1721.\n",
      "XGBoost n_trees=150, max_depth = 35, learning_rate = 0.2 :train_auc= 0.9945 and val_auc= 0.7901. Train_ap= 0.8391 and val_ap= 0.1183.\n",
      "XGBoost n_trees=250, max_depth = 7, learning_rate = 0.08 :train_auc= 0.8679 and val_auc= 0.8424. Train_ap= 0.2785 and val_ap= 0.1921.\n",
      "XGBoost n_trees=250, max_depth = 20, learning_rate = 0.2 :train_auc= 0.9920 and val_auc= 0.7772. Train_ap= 0.8087 and val_ap= 0.1174.\n",
      "XGBoost n_trees=50, max_depth = 25, learning_rate = 0.05 :train_auc= 0.9471 and val_auc= 0.8317. Train_ap= 0.5674 and val_ap= 0.1626.\n",
      "XGBoost n_trees=200, max_depth = 15, learning_rate = 0.08 :train_auc= 0.9406 and val_auc= 0.8223. Train_ap= 0.5323 and val_ap= 0.1623.\n",
      "XGBoost n_trees=50, max_depth = 25, learning_rate = 0.1 :train_auc= 0.9752 and val_auc= 0.8246. Train_ap= 0.6680 and val_ap= 0.1552.\n",
      "XGBoost n_trees=50, max_depth = 25, learning_rate = 0.1 :train_auc= 0.9752 and val_auc= 0.8246. Train_ap= 0.6680 and val_ap= 0.1552.\n",
      "XGBoost n_trees=100, max_depth = 30, learning_rate = 0.08 :train_auc= 0.9873 and val_auc= 0.8159. Train_ap= 0.7576 and val_ap= 0.1435.\n",
      "XGBoost n_trees=150, max_depth = 25, learning_rate = 0.01 :train_auc= 0.9167 and val_auc= 0.8349. Train_ap= 0.4952 and val_ap= 0.1663.\n",
      "XGBoost n_trees=200, max_depth = 5, learning_rate = 0.1 :train_auc= 0.8556 and val_auc= 0.8446. Train_ap= 0.2357 and val_ap= 0.1947.\n",
      "XGBoost n_trees=200, max_depth = 25, learning_rate = 0.08 :train_auc= 0.9871 and val_auc= 0.8043. Train_ap= 0.7577 and val_ap= 0.1368.\n",
      "XGBoost n_trees=150, max_depth = 7, learning_rate = 0.01 :train_auc= 0.8407 and val_auc= 0.8430. Train_ap= 0.2167 and val_ap= 0.1923.\n",
      "XGBoost n_trees=50, max_depth = 12, learning_rate = 0.2 :train_auc= 0.8964 and val_auc= 0.8378. Train_ap= 0.3730 and val_ap= 0.1785.\n",
      "XGBoost n_trees=150, max_depth = 10, learning_rate = 0.08 :train_auc= 0.8804 and val_auc= 0.8420. Train_ap= 0.3267 and val_ap= 0.1894.\n",
      "XGBoost n_trees=150, max_depth = 15, learning_rate = 0.01 :train_auc= 0.8716 and val_auc= 0.8425. Train_ap= 0.3408 and val_ap= 0.1795.\n",
      "XGBoost n_trees=150, max_depth = 12, learning_rate = 0.08 :train_auc= 0.8989 and val_auc= 0.8376. Train_ap= 0.3839 and val_ap= 0.1815.\n",
      "XGBoost n_trees=50, max_depth = 20, learning_rate = 0.08 :train_auc= 0.9464 and val_auc= 0.8333. Train_ap= 0.5494 and val_ap= 0.1650.\n",
      "XGBoost n_trees=100, max_depth = 12, learning_rate = 0.05 :train_auc= 0.8809 and val_auc= 0.8444. Train_ap= 0.3381 and val_ap= 0.1867.\n",
      "XGBoost n_trees=200, max_depth = 5, learning_rate = 0.01 :train_auc= 0.8379 and val_auc= 0.8418. Train_ap= 0.2011 and val_ap= 0.1873.\n",
      "XGBoost n_trees=200, max_depth = 35, learning_rate = 0.1 :train_auc= 0.9937 and val_auc= 0.7974. Train_ap= 0.8283 and val_ap= 0.1253.\n",
      "XGBoost n_trees=150, max_depth = 15, learning_rate = 0.05 :train_auc= 0.9195 and val_auc= 0.8368. Train_ap= 0.4480 and val_ap= 0.1749.\n",
      "XGBoost n_trees=50, max_depth = 18, learning_rate = 0.08 :train_auc= 0.9305 and val_auc= 0.8361. Train_ap= 0.4941 and val_ap= 0.1697.\n",
      "XGBoost n_trees=200, max_depth = 7, learning_rate = 0.08 :train_auc= 0.8636 and val_auc= 0.8436. Train_ap= 0.2666 and val_ap= 0.1940.\n",
      "XGBoost n_trees=200, max_depth = 5, learning_rate = 0.05 :train_auc= 0.8492 and val_auc= 0.8466. Train_ap= 0.2207 and val_ap= 0.1972.\n",
      "XGBoost n_trees=50, max_depth = 12, learning_rate = 0.05 :train_auc= 0.8646 and val_auc= 0.8453. Train_ap= 0.3010 and val_ap= 0.1887.\n",
      "XGBoost n_trees=250, max_depth = 20, learning_rate = 0.1 :train_auc= 0.9826 and val_auc= 0.7954. Train_ap= 0.7317 and val_ap= 0.1323.\n",
      "XGBoost n_trees=100, max_depth = 10, learning_rate = 0.05 :train_auc= 0.8646 and val_auc= 0.8462. Train_ap= 0.2881 and val_ap= 0.1949.\n",
      "XGBoost n_trees=50, max_depth = 25, learning_rate = 0.2 :train_auc= 0.9828 and val_auc= 0.8090. Train_ap= 0.7270 and val_ap= 0.1403.\n",
      "XGBoost n_trees=200, max_depth = 30, learning_rate = 0.08 :train_auc= 0.9912 and val_auc= 0.8041. Train_ap= 0.7963 and val_ap= 0.1323.\n",
      "XGBoost n_trees=150, max_depth = 20, learning_rate = 0.05 :train_auc= 0.9613 and val_auc= 0.8273. Train_ap= 0.6028 and val_ap= 0.1605.\n",
      "XGBoost n_trees=150, max_depth = 18, learning_rate = 0.2 :train_auc= 0.9830 and val_auc= 0.7880. Train_ap= 0.7370 and val_ap= 0.1284.\n",
      "XGBoost n_trees=50, max_depth = 35, learning_rate = 0.01 :train_auc= 0.8818 and val_auc= 0.8377. Train_ap= 0.4042 and val_ap= 0.1606.\n"
     ]
    }
   ],
   "source": [
    "n_trees = list(range(50, 300, 50))\n",
    "lrs= [0.01, 0.05, 0.08, 0.1, 0.2]\n",
    "depths = [5, 7, 10, 12, 15, 18, 20, 25, 30, 35]\n",
    "n_iter = 50\n",
    "xg_train_aucs_list = []\n",
    "xg_val_aucs_list = []\n",
    "xg_train_aps_list = []\n",
    "xg_val_aps_list = []\n",
    "\n",
    "for i in range(0,n_iter):\n",
    "    lr = random.choice(lrs)\n",
    "    depth = random.choice(depths)\n",
    "    n_tree = random.choice(n_trees)\n",
    "    xg=XGBClassifier(max_depth = depth, learning_rate = lr, n_estimators=n_tree)\n",
    "    xg.fit(X_train[train_cols], y_train)\n",
    "    evaluate_model(\n",
    "        xg,\n",
    "        X_train[train_cols],\n",
    "        y_train,\n",
    "        X_val[train_cols],\n",
    "        y_val,\n",
    "        xg_train_aucs_list,\n",
    "        xg_val_aucs_list,\n",
    "        xg_train_aps_list,\n",
    "        xg_val_aps_list\n",
    "    )\n",
    "\n",
    "    print(\n",
    "        f\"XGBoost n_trees={n_tree}, max_depth = {depth}, learning_rate = {lr} :\" \n",
    "        f\"train_auc= {xg_train_aucs_list[-1]:.4f} and val_auc= {xg_val_aucs_list[-1]:.4f}.\"\n",
    "        f\" Train_ap= {xg_train_aps_list[-1]:.4f} and val_ap= {xg_val_aps_list[-1]:.4f}.\"\n",
    "    )"
   ]
  },
  {
   "cell_type": "markdown",
   "metadata": {},
   "source": [
    "El mejor resultado fue obtenido con n_trees=100, max_depth = 7, learning_rate = 0.05. Estudio el feature importance de esa configuración"
   ]
  },
  {
   "cell_type": "code",
   "execution_count": 203,
   "metadata": {},
   "outputs": [
    {
     "data": {
      "image/png": "[encoded data removed]",
      "text/plain": [
       "<Figure size 640x480 with 1 Axes>"
      ]
     },
     "metadata": {},
     "output_type": "display_data"
    }
   ],
   "source": [
    "xg = XGBClassifier(learning_rate=0.05, max_depth = 7, n_estimators=100)\n",
    "xg.fit(X_train[train_cols],y_train)\n",
    "xg_fi, fig, ax = plot_feature_importance(xg,train_cols)"
   ]
  },
  {
   "cell_type": "code",
   "execution_count": 209,
   "metadata": {},
   "outputs": [
    {
     "data": {
      "text/plain": [
       "9       days_since_purchase_variant_id\n",
       "11          std_days_to_buy_variant_id\n",
       "8                       people_ex_baby\n",
       "5                       count_children\n",
       "12    days_since_purchase_product_type\n",
       "0                       user_order_seq\n",
       "7                           count_pets\n",
       "10          avg_days_to_buy_variant_id\n",
       "13        avg_days_to_buy_product_type\n",
       "18                      active_snoozed\n",
       "14        std_days_to_buy_product_type\n",
       "19                      set_as_regular\n",
       "3                    global_popularity\n",
       "17                    abandoned_before\n",
       "16                      ordered_before\n",
       "Name: features, dtype: object"
      ]
     },
     "execution_count": 209,
     "metadata": {},
     "output_type": "execute_result"
    }
   ],
   "source": [
    "xg_filtered_columns = xg_fi[\"features\"].iloc[-15:]\n",
    "xg_filtered_columns"
   ]
  },
  {
   "cell_type": "code",
   "execution_count": 210,
   "metadata": {},
   "outputs": [
    {
     "name": "stdout",
     "output_type": "stream",
     "text": [
      "XGBoost n_trees=100, max_depth = 5, learning_rate = 0.05 :train_auc= 0.8435 and val_auc= 0.8456. Train_ap= 0.2092 and val_ap= 0.1970.\n",
      "XGBoost n_trees=120, max_depth = 5, learning_rate = 0.05 :train_auc= 0.8447 and val_auc= 0.8458. Train_ap= 0.2108 and val_ap= 0.1973.\n",
      "XGBoost n_trees=150, max_depth = 5, learning_rate = 0.05 :train_auc= 0.8457 and val_auc= 0.8457. Train_ap= 0.2128 and val_ap= 0.1969.\n",
      "XGBoost n_trees=170, max_depth = 5, learning_rate = 0.05 :train_auc= 0.8464 and val_auc= 0.8455. Train_ap= 0.2143 and val_ap= 0.1973.\n",
      "XGBoost n_trees=200, max_depth = 5, learning_rate = 0.05 :train_auc= 0.8473 and val_auc= 0.8452. Train_ap= 0.2166 and val_ap= 0.1969.\n",
      "XGBoost n_trees=100, max_depth = 7, learning_rate = 0.05 :train_auc= 0.8481 and val_auc= 0.8459. Train_ap= 0.2310 and val_ap= 0.1988.\n",
      "XGBoost n_trees=120, max_depth = 7, learning_rate = 0.05 :train_auc= 0.8492 and val_auc= 0.8456. Train_ap= 0.2330 and val_ap= 0.1979.\n",
      "XGBoost n_trees=150, max_depth = 7, learning_rate = 0.05 :train_auc= 0.8508 and val_auc= 0.8449. Train_ap= 0.2369 and val_ap= 0.1973.\n",
      "XGBoost n_trees=170, max_depth = 7, learning_rate = 0.05 :train_auc= 0.8519 and val_auc= 0.8446. Train_ap= 0.2391 and val_ap= 0.1970.\n",
      "XGBoost n_trees=200, max_depth = 7, learning_rate = 0.05 :train_auc= 0.8533 and val_auc= 0.8440. Train_ap= 0.2420 and val_ap= 0.1965.\n",
      "XGBoost n_trees=100, max_depth = 10, learning_rate = 0.05 :train_auc= 0.8603 and val_auc= 0.8442. Train_ap= 0.2777 and val_ap= 0.1933.\n",
      "XGBoost n_trees=120, max_depth = 10, learning_rate = 0.05 :train_auc= 0.8622 and val_auc= 0.8439. Train_ap= 0.2818 and val_ap= 0.1921.\n",
      "XGBoost n_trees=150, max_depth = 10, learning_rate = 0.05 :train_auc= 0.8656 and val_auc= 0.8429. Train_ap= 0.2880 and val_ap= 0.1909.\n",
      "XGBoost n_trees=170, max_depth = 10, learning_rate = 0.05 :train_auc= 0.8674 and val_auc= 0.8423. Train_ap= 0.2925 and val_ap= 0.1902.\n",
      "XGBoost n_trees=200, max_depth = 10, learning_rate = 0.05 :train_auc= 0.8707 and val_auc= 0.8414. Train_ap= 0.3005 and val_ap= 0.1894.\n",
      "XGBoost n_trees=100, max_depth = 12, learning_rate = 0.05 :train_auc= 0.8745 and val_auc= 0.8425. Train_ap= 0.3194 and val_ap= 0.1866.\n",
      "XGBoost n_trees=120, max_depth = 12, learning_rate = 0.05 :train_auc= 0.8777 and val_auc= 0.8414. Train_ap= 0.3277 and val_ap= 0.1859.\n",
      "XGBoost n_trees=150, max_depth = 12, learning_rate = 0.05 :train_auc= 0.8812 and val_auc= 0.8398. Train_ap= 0.3348 and val_ap= 0.1846.\n",
      "XGBoost n_trees=170, max_depth = 12, learning_rate = 0.05 :train_auc= 0.8835 and val_auc= 0.8389. Train_ap= 0.3403 and val_ap= 0.1840.\n",
      "XGBoost n_trees=200, max_depth = 12, learning_rate = 0.05 :train_auc= 0.8870 and val_auc= 0.8379. Train_ap= 0.3509 and val_ap= 0.1828.\n",
      "XGBoost n_trees=100, max_depth = 15, learning_rate = 0.05 :train_auc= 0.9011 and val_auc= 0.8380. Train_ap= 0.3950 and val_ap= 0.1771.\n",
      "XGBoost n_trees=120, max_depth = 15, learning_rate = 0.05 :train_auc= 0.9046 and val_auc= 0.8364. Train_ap= 0.4059 and val_ap= 0.1755.\n",
      "XGBoost n_trees=150, max_depth = 15, learning_rate = 0.05 :train_auc= 0.9087 and val_auc= 0.8343. Train_ap= 0.4167 and val_ap= 0.1739.\n",
      "XGBoost n_trees=170, max_depth = 15, learning_rate = 0.05 :train_auc= 0.9111 and val_auc= 0.8330. Train_ap= 0.4253 and val_ap= 0.1726.\n",
      "XGBoost n_trees=200, max_depth = 15, learning_rate = 0.05 :train_auc= 0.9141 and val_auc= 0.8312. Train_ap= 0.4373 and val_ap= 0.1706.\n",
      "XGBoost n_trees=100, max_depth = 5, learning_rate = 0.01 :train_auc= 0.8355 and val_auc= 0.8387. Train_ap= 0.1947 and val_ap= 0.1797.\n",
      "XGBoost n_trees=120, max_depth = 5, learning_rate = 0.01 :train_auc= 0.8355 and val_auc= 0.8388. Train_ap= 0.1957 and val_ap= 0.1811.\n",
      "XGBoost n_trees=150, max_depth = 5, learning_rate = 0.01 :train_auc= 0.8371 and val_auc= 0.8410. Train_ap= 0.1975 and val_ap= 0.1836.\n",
      "XGBoost n_trees=170, max_depth = 5, learning_rate = 0.01 :train_auc= 0.8374 and val_auc= 0.8412. Train_ap= 0.1989 and val_ap= 0.1846.\n",
      "XGBoost n_trees=200, max_depth = 5, learning_rate = 0.01 :train_auc= 0.8379 and val_auc= 0.8418. Train_ap= 0.2006 and val_ap= 0.1875.\n",
      "XGBoost n_trees=100, max_depth = 7, learning_rate = 0.01 :train_auc= 0.8399 and val_auc= 0.8425. Train_ap= 0.2106 and val_ap= 0.1865.\n",
      "XGBoost n_trees=120, max_depth = 7, learning_rate = 0.01 :train_auc= 0.8402 and val_auc= 0.8428. Train_ap= 0.2123 and val_ap= 0.1881.\n",
      "XGBoost n_trees=150, max_depth = 7, learning_rate = 0.01 :train_auc= 0.8406 and val_auc= 0.8430. Train_ap= 0.2142 and val_ap= 0.1904.\n",
      "XGBoost n_trees=170, max_depth = 7, learning_rate = 0.01 :train_auc= 0.8411 and val_auc= 0.8437. Train_ap= 0.2162 and val_ap= 0.1917.\n",
      "XGBoost n_trees=200, max_depth = 7, learning_rate = 0.01 :train_auc= 0.8415 and val_auc= 0.8439. Train_ap= 0.2181 and val_ap= 0.1933.\n",
      "XGBoost n_trees=100, max_depth = 10, learning_rate = 0.01 :train_auc= 0.8455 and val_auc= 0.8438. Train_ap= 0.2359 and val_ap= 0.1892.\n",
      "XGBoost n_trees=120, max_depth = 10, learning_rate = 0.01 :train_auc= 0.8463 and val_auc= 0.8441. Train_ap= 0.2389 and val_ap= 0.1902.\n",
      "XGBoost n_trees=150, max_depth = 10, learning_rate = 0.01 :train_auc= 0.8471 and val_auc= 0.8441. Train_ap= 0.2423 and val_ap= 0.1920.\n",
      "XGBoost n_trees=170, max_depth = 10, learning_rate = 0.01 :train_auc= 0.8479 and val_auc= 0.8444. Train_ap= 0.2452 and val_ap= 0.1931.\n",
      "XGBoost n_trees=200, max_depth = 10, learning_rate = 0.01 :train_auc= 0.8488 and val_auc= 0.8447. Train_ap= 0.2487 and val_ap= 0.1937.\n",
      "XGBoost n_trees=100, max_depth = 12, learning_rate = 0.01 :train_auc= 0.8507 and val_auc= 0.8439. Train_ap= 0.2611 and val_ap= 0.1855.\n",
      "XGBoost n_trees=120, max_depth = 12, learning_rate = 0.01 :train_auc= 0.8521 and val_auc= 0.8440. Train_ap= 0.2654 and val_ap= 0.1868.\n",
      "XGBoost n_trees=150, max_depth = 12, learning_rate = 0.01 :train_auc= 0.8537 and val_auc= 0.8438. Train_ap= 0.2703 and val_ap= 0.1877.\n",
      "XGBoost n_trees=170, max_depth = 12, learning_rate = 0.01 :train_auc= 0.8550 and val_auc= 0.8440. Train_ap= 0.2743 and val_ap= 0.1879.\n",
      "XGBoost n_trees=200, max_depth = 12, learning_rate = 0.01 :train_auc= 0.8567 and val_auc= 0.8441. Train_ap= 0.2794 and val_ap= 0.1886.\n",
      "XGBoost n_trees=100, max_depth = 15, learning_rate = 0.01 :train_auc= 0.8611 and val_auc= 0.8429. Train_ap= 0.3085 and val_ap= 0.1777.\n",
      "XGBoost n_trees=120, max_depth = 15, learning_rate = 0.01 :train_auc= 0.8639 and val_auc= 0.8424. Train_ap= 0.3157 and val_ap= 0.1781.\n",
      "XGBoost n_trees=150, max_depth = 15, learning_rate = 0.01 :train_auc= 0.8672 and val_auc= 0.8417. Train_ap= 0.3248 and val_ap= 0.1780.\n",
      "XGBoost n_trees=170, max_depth = 15, learning_rate = 0.01 :train_auc= 0.8700 and val_auc= 0.8417. Train_ap= 0.3305 and val_ap= 0.1780.\n",
      "XGBoost n_trees=200, max_depth = 15, learning_rate = 0.01 :train_auc= 0.8737 and val_auc= 0.8415. Train_ap= 0.3398 and val_ap= 0.1784.\n"
     ]
    }
   ],
   "source": [
    "n_trees_grid = [100, 120, 150, 170, 200]\n",
    "xg_train_aucs_list = []\n",
    "xg_val_aucs_list = []\n",
    "xg_train_aps_list = []\n",
    "xg_val_aps_list = []\n",
    "\n",
    "for lr in [0.05,0.01]:\n",
    "    for depth in [5, 7, 10, 12, 15]:\n",
    "        for n_tree in n_trees_grid:\n",
    "            xg=XGBClassifier(max_depth = depth, learning_rate = lr, n_estimators=n_tree)\n",
    "            xg.fit(X_train[xg_filtered_columns], y_train)\n",
    "            evaluate_model(\n",
    "                xg,\n",
    "                X_train[xg_filtered_columns],\n",
    "                y_train,\n",
    "                X_val[xg_filtered_columns],\n",
    "                y_val,\n",
    "                xg_train_aucs_list,\n",
    "                xg_val_aucs_list,\n",
    "                xg_train_aps_list,\n",
    "                xg_val_aps_list\n",
    "            )\n",
    "\n",
    "            print(\n",
    "                f\"XGBoost n_trees={n_tree}, max_depth = {depth}, learning_rate = {lr} :\" \n",
    "                f\"train_auc= {xg_train_aucs_list[-1]:.4f} and val_auc= {xg_val_aucs_list[-1]:.4f}.\"\n",
    "                f\" Train_ap= {xg_train_aps_list[-1]:.4f} and val_ap= {xg_val_aps_list[-1]:.4f}.\"\n",
    "            )"
   ]
  },
  {
   "cell_type": "markdown",
   "metadata": {},
   "source": [
    "Quitando variables no se ha conseguido mejorar la métrica de 0.1996"
   ]
  },
  {
   "cell_type": "markdown",
   "metadata": {},
   "source": [
    "# CatBoost"
   ]
  },
  {
   "cell_type": "code",
   "execution_count": 11,
   "metadata": {},
   "outputs": [
    {
     "data": {
      "text/html": [
       "<div>\n",
       "<style scoped>\n",
       "    .dataframe tbody tr th:only-of-type {\n",
       "        vertical-align: middle;\n",
       "    }\n",
       "\n",
       "    .dataframe tbody tr th {\n",
       "        vertical-align: top;\n",
       "    }\n",
       "\n",
       "    .dataframe thead th {\n",
       "        text-align: right;\n",
       "    }\n",
       "</style>\n",
       "<table border=\"1\" class=\"dataframe\">\n",
       "  <thead>\n",
       "    <tr style=\"text-align: right;\">\n",
       "      <th></th>\n",
       "      <th>variant_id</th>\n",
       "      <th>product_type</th>\n",
       "      <th>order_id</th>\n",
       "      <th>user_id</th>\n",
       "      <th>created_at</th>\n",
       "      <th>order_date</th>\n",
       "      <th>user_order_seq</th>\n",
       "      <th>ordered_before</th>\n",
       "      <th>abandoned_before</th>\n",
       "      <th>active_snoozed</th>\n",
       "      <th>...</th>\n",
       "      <th>count_babies</th>\n",
       "      <th>count_pets</th>\n",
       "      <th>people_ex_baby</th>\n",
       "      <th>days_since_purchase_variant_id</th>\n",
       "      <th>avg_days_to_buy_variant_id</th>\n",
       "      <th>std_days_to_buy_variant_id</th>\n",
       "      <th>days_since_purchase_product_type</th>\n",
       "      <th>avg_days_to_buy_product_type</th>\n",
       "      <th>std_days_to_buy_product_type</th>\n",
       "      <th>month_created</th>\n",
       "    </tr>\n",
       "  </thead>\n",
       "  <tbody>\n",
       "    <tr>\n",
       "      <th>0</th>\n",
       "      <td>33826472919172</td>\n",
       "      <td>ricepastapulses</td>\n",
       "      <td>2807985930372</td>\n",
       "      <td>3482464092292</td>\n",
       "      <td>2020-10-05 16:46:19</td>\n",
       "      <td>2020-10-05</td>\n",
       "      <td>3</td>\n",
       "      <td>0.0</td>\n",
       "      <td>0.0</td>\n",
       "      <td>0.0</td>\n",
       "      <td>...</td>\n",
       "      <td>0.0</td>\n",
       "      <td>0.0</td>\n",
       "      <td>2.0</td>\n",
       "      <td>33.0</td>\n",
       "      <td>42.0</td>\n",
       "      <td>31.134053</td>\n",
       "      <td>30.0</td>\n",
       "      <td>30.0</td>\n",
       "      <td>24.27618</td>\n",
       "      <td>10</td>\n",
       "    </tr>\n",
       "  </tbody>\n",
       "</table>\n",
       "<p>1 rows × 27 columns</p>\n",
       "</div>"
      ],
      "text/plain": [
       "       variant_id     product_type       order_id        user_id  \\\n",
       "0  33826472919172  ricepastapulses  2807985930372  3482464092292   \n",
       "\n",
       "           created_at order_date  user_order_seq  ordered_before  \\\n",
       "0 2020-10-05 16:46:19 2020-10-05               3             0.0   \n",
       "\n",
       "   abandoned_before  active_snoozed  ...  count_babies  count_pets  \\\n",
       "0               0.0             0.0  ...           0.0         0.0   \n",
       "\n",
       "   people_ex_baby days_since_purchase_variant_id  avg_days_to_buy_variant_id  \\\n",
       "0             2.0                           33.0                        42.0   \n",
       "\n",
       "   std_days_to_buy_variant_id  days_since_purchase_product_type  \\\n",
       "0                   31.134053                              30.0   \n",
       "\n",
       "   avg_days_to_buy_product_type  std_days_to_buy_product_type  month_created  \n",
       "0                          30.0                      24.27618             10  \n",
       "\n",
       "[1 rows x 27 columns]"
      ]
     },
     "execution_count": 11,
     "metadata": {},
     "output_type": "execute_result"
    }
   ],
   "source": [
    "cat_features=categorical_cols\n",
    "X_train.head(1)"
   ]
  },
  {
   "cell_type": "code",
   "execution_count": 15,
   "metadata": {},
   "outputs": [],
   "source": [
    "ca=CatBoostClassifier(max_depth = 7, learning_rate = 0.05, n_estimators=100,verbose=0)\n",
    "ca.fit(X_train, y_train,cat_features)\n",
    "pred_train = ca.predict_proba(X_train)[:,1]\n",
    "pred_val = ca.predict_proba(X_val)[:,1]"
   ]
  },
  {
   "cell_type": "code",
   "execution_count": 16,
   "metadata": {},
   "outputs": [
    {
     "name": "stdout",
     "output_type": "stream",
     "text": [
      "'Train auc':0.8419017206690603, Val_auc: 0.8447786039902896, 'Train_ap': 0.2134878728612839, Val_ap: 0.19605660963393498\n"
     ]
    }
   ],
   "source": [
    "train_auc = roc_auc_score(y_train,pred_train)\n",
    "val_auc = roc_auc_score(y_val,pred_val)\n",
    "train_ap = average_precision_score(y_train,pred_train)\n",
    "val_ap = average_precision_score(y_val,pred_val)\n",
    "print(\n",
    "    f\"'Train auc':{train_auc}, Val_auc: {val_auc}, 'Train_ap': {train_ap}, Val_ap: {val_ap}\")"
   ]
  },
  {
   "cell_type": "code",
   "execution_count": 12,
   "metadata": {},
   "outputs": [
    {
     "name": "stdout",
     "output_type": "stream",
     "text": [
      "CatBoost n_trees=200, max_depth = 5, learning_rate = 0.05 :train_auc= 0.8437 and val_auc= 0.8450. Train_ap= 0.2146 and val_ap= 0.2012.\n",
      "CatBoost n_trees=210, max_depth = 5, learning_rate = 0.05 :train_auc= 0.8441 and val_auc= 0.8456. Train_ap= 0.2154 and val_ap= 0.2014.\n",
      "CatBoost n_trees=200, max_depth = 7, learning_rate = 0.05 :train_auc= 0.8476 and val_auc= 0.8479. Train_ap= 0.2301 and val_ap= 0.2020.\n",
      "CatBoost n_trees=210, max_depth = 7, learning_rate = 0.05 :train_auc= 0.8479 and val_auc= 0.8480. Train_ap= 0.2315 and val_ap= 0.2025.\n"
     ]
    }
   ],
   "source": [
    "n_trees_grid = [200, 210]\n",
    "ca_train_aucs_list = []\n",
    "ca_val_aucs_list = []\n",
    "ca_train_aps_list = []\n",
    "ca_val_aps_list = []\n",
    "\n",
    "for lr in [0.05]:\n",
    "    for depth in [5, 7]:\n",
    "        for n_tree in n_trees_grid:\n",
    "            ca=CatBoostClassifier(max_depth = depth, learning_rate = lr, n_estimators=n_tree,verbose=0)\n",
    "            ca.fit(X_train, y_train, cat_features)\n",
    "            evaluate_model(\n",
    "                ca,\n",
    "                X_train,\n",
    "                y_train,\n",
    "                X_val,\n",
    "                y_val,\n",
    "                ca_train_aucs_list,\n",
    "                ca_val_aucs_list,\n",
    "                ca_train_aps_list,\n",
    "                ca_val_aps_list\n",
    "            )\n",
    "\n",
    "            print(\n",
    "                f\"CatBoost n_trees={n_tree}, max_depth = {depth}, learning_rate = {lr} :\" \n",
    "                f\"train_auc= {ca_train_aucs_list[-1]:.4f} and val_auc= {ca_val_aucs_list[-1]:.4f}.\"\n",
    "                f\" Train_ap= {ca_train_aps_list[-1]:.4f} and val_ap= {ca_val_aps_list[-1]:.4f}.\"\n",
    "            )"
   ]
  },
  {
   "cell_type": "code",
   "execution_count": null,
   "metadata": {},
   "outputs": [],
   "source": [
    "fig, axs = plt.subplots(2, 2, figsize=(12, 12))\n",
    "ax1, ax2, ax3, ax4 = axs.flatten()\n",
    "#I take max_depth to control overfitting\n",
    "mds = [2,4,8,10,12,16,32]\n",
    "for md in mds:\n",
    "    dt=DecisionTreeClassifier(max_depth=md)\n",
    "    dt.fit(X_train[train_cols], y_train)\n",
    "    train_proba = dt.predict_proba(X_train[train_cols])[:, 1]\n",
    "    \n",
    "    precision_train, recall_train, _ = precision_recall_curve(y_train, train_proba)\n",
    "    pr_auc = roc_auc_score(y_train, train_proba)\n",
    "    ax1.plot(recall_train, precision_train, label=f\"DT; Max_depth={md}; PR AUC: {pr_auc:.2f}\")\n",
    "    fpr_train, tpr_train, _ = roc_curve(y_train, train_proba)\n",
    "    roc_auc = roc_auc_score(y_train, train_proba)\n",
    "    ax2.plot(fpr_train, tpr_train, label=f\"DT; Max_depth={md}; ROC AUC = {roc_auc:.2f}:\")\n",
    "    # Validation curves\n",
    "    val_proba = dt.predict_proba(X_val[train_cols])[:, 1]\n",
    "    precision_val, recall_val, _ = precision_recall_curve(y_val, val_proba)\n",
    "    pr_auc = roc_auc_score(y_val, val_proba)\n",
    "    ax3.plot(recall_val, precision_val, label=f\"DT; Max_depth={md}; PR AUC: {pr_auc:.2f}\")\n",
    "    fpr_val, tpr_val, _ = roc_curve(y_val, val_proba)\n",
    "    roc_auc = roc_auc_score(y_val, val_proba)\n",
    "    ax4.plot(fpr_val, tpr_val, label=f\"DT; Max_depth={md}; ROC AUC: {roc_auc:.2f}\")\n",
    "\n",
    "# Adding Baseline validation\n",
    "\n",
    "# Validation curves\n",
    "y_val_baseline = w1 * X_val[\"global_popularity\"] + w2 * X_val[\"ordered_before\"]\n",
    "precision_val, recall_val, _ = precision_recall_curve(y_val, y_val_baseline)\n",
    "pr_auc = roc_auc_score(y_val, y_val_baseline)\n",
    "ax3.plot(recall_val, precision_val, label=f\"Baseline; PR AUC: {pr_auc:.2f}\")\n",
    "fpr_val, tpr_val, _ = roc_curve(y_val, y_val_baseline)\n",
    "roc_auc = roc_auc_score(y_val, y_val_baseline)\n",
    "ax4.plot(fpr_val, tpr_val, label=f\"Baseline; ROC AUC: {roc_auc:.2f}\")\n",
    "\n",
    "ax1.set_title(\"Precision-Recall\")\n",
    "ax1.set_xlabel(\"Recall\")\n",
    "ax1.set_ylabel(\"Precision\")\n",
    "ax1.legend()\n",
    "\n",
    "ax2.set_title(\"ROC - Train\")\n",
    "ax2.set_xlabel(\"FPR (False Positive Rate)\")\n",
    "ax2.set_ylabel(\"TPR (True Positive Rate)\")\n",
    "ax2.legend()\n",
    "\n",
    "\n",
    "ax3.set_title(\"Curva Precision-Recall - Validation\")\n",
    "ax3.set_xlabel(\"Recall\")\n",
    "ax3.set_ylabel(\"Precision\")\n",
    "ax3.legend()\n",
    "\n",
    "\n",
    "ax4.set_title(\"ROC - Validation\")\n",
    "ax4.set_xlabel(\"FPR (False Positive Rate)\")\n",
    "ax4.set_ylabel(\"TPR (True Positive Rate)\")\n",
    "ax4.legend()\n",
    "\n",
    "plt.tight_layout()\n",
    "plt.show()"
   ]
  }
 ],
 "metadata": {
  "kernelspec": {
   "display_name": "zrive-ds-A_ntz6FP-py3.11",
   "language": "python",
   "name": "python3"
  },
  "language_info": {
   "codemirror_mode": {
    "name": "ipython",
    "version": 3
   },
   "file_extension": ".py",
   "mimetype": "text/x-python",
   "name": "python",
   "nbconvert_exporter": "python",
   "pygments_lexer": "ipython3",
   "version": "3.11.0"
  }
 },
 "nbformat": 4,
 "nbformat_minor": 2
}
