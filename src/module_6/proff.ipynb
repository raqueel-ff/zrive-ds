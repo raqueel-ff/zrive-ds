{
 "cells": [
  {
   "cell_type": "code",
   "execution_count": 4,
   "metadata": {},
   "outputs": [],
   "source": [
    "import pandas as pd\n",
    "data = pd.read_parquet(r'C:\\Users\\rfran\\Desktop\\zrive-ds\\src\\module_6\\data\\orders.parquet')\n",
    "data['user_id'].head(12).to_excel('user_ids.xlsx', index=False)"
   ]
  },
  {
   "cell_type": "code",
   "execution_count": 5,
   "metadata": {},
   "outputs": [
    {
     "data": {
      "text/html": [
       "<div>\n",
       "<style scoped>\n",
       "    .dataframe tbody tr th:only-of-type {\n",
       "        vertical-align: middle;\n",
       "    }\n",
       "\n",
       "    .dataframe tbody tr th {\n",
       "        vertical-align: top;\n",
       "    }\n",
       "\n",
       "    .dataframe thead th {\n",
       "        text-align: right;\n",
       "    }\n",
       "</style>\n",
       "<table border=\"1\" class=\"dataframe\">\n",
       "  <thead>\n",
       "    <tr style=\"text-align: right;\">\n",
       "      <th></th>\n",
       "      <th>variant_id</th>\n",
       "      <th>price</th>\n",
       "      <th>compare_at_price</th>\n",
       "      <th>vendor</th>\n",
       "      <th>product_type</th>\n",
       "      <th>tags</th>\n",
       "    </tr>\n",
       "  </thead>\n",
       "  <tbody>\n",
       "    <tr>\n",
       "      <th>0</th>\n",
       "      <td>39587297165444</td>\n",
       "      <td>3.09</td>\n",
       "      <td>3.15</td>\n",
       "      <td>heinz</td>\n",
       "      <td>condiments-dressings</td>\n",
       "      <td>[table-sauces, vegan]</td>\n",
       "    </tr>\n",
       "    <tr>\n",
       "      <th>1</th>\n",
       "      <td>34370361229444</td>\n",
       "      <td>4.99</td>\n",
       "      <td>5.50</td>\n",
       "      <td>whogivesacrap</td>\n",
       "      <td>toilet-roll-kitchen-roll-tissue</td>\n",
       "      <td>[b-corp, eco, toilet-rolls]</td>\n",
       "    </tr>\n",
       "    <tr>\n",
       "      <th>2</th>\n",
       "      <td>34284951863428</td>\n",
       "      <td>3.69</td>\n",
       "      <td>3.99</td>\n",
       "      <td>plenty</td>\n",
       "      <td>toilet-roll-kitchen-roll-tissue</td>\n",
       "      <td>[kitchen-roll]</td>\n",
       "    </tr>\n",
       "  </tbody>\n",
       "</table>\n",
       "</div>"
      ],
      "text/plain": [
       "       variant_id  price  compare_at_price         vendor  \\\n",
       "0  39587297165444   3.09              3.15          heinz   \n",
       "1  34370361229444   4.99              5.50  whogivesacrap   \n",
       "2  34284951863428   3.69              3.99         plenty   \n",
       "\n",
       "                      product_type                         tags  \n",
       "0             condiments-dressings        [table-sauces, vegan]  \n",
       "1  toilet-roll-kitchen-roll-tissue  [b-corp, eco, toilet-rolls]  \n",
       "2  toilet-roll-kitchen-roll-tissue               [kitchen-roll]  "
      ]
     },
     "execution_count": 5,
     "metadata": {},
     "output_type": "execute_result"
    }
   ],
   "source": [
    "data = pd.read_parquet(r'C:\\Users\\rfran\\Desktop\\zrive-ds\\src\\module_6\\data\\inventory.parquet')\n",
    "data.head(3)"
   ]
  }
 ],
 "metadata": {
  "kernelspec": {
   "display_name": "Python 3",
   "language": "python",
   "name": "python3"
  },
  "language_info": {
   "codemirror_mode": {
    "name": "ipython",
    "version": 3
   },
   "file_extension": ".py",
   "mimetype": "text/x-python",
   "name": "python",
   "nbconvert_exporter": "python",
   "pygments_lexer": "ipython3",
   "version": "3.12.2"
  }
 },
 "nbformat": 4,
 "nbformat_minor": 2
}
