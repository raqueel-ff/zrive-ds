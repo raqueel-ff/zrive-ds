{
 "cells": [
  {
   "cell_type": "code",
   "execution_count": 9,
   "metadata": {},
   "outputs": [
    {
     "name": "stdout",
     "output_type": "stream",
     "text": [
      "2160    0e823a42e107461379e5b5613b7aa00537a72e1b0eaa7a...\n",
      "Name: user_id, dtype: object\n"
     ]
    }
   ],
   "source": [
    "import pandas as pd\n",
    "data = pd.read_parquet(r'/home/raquel/zrive-ds/src/module_6/data/users.parquet')\n",
    "print(data['user_id'].head(1))\n"
   ]
  },
  {
   "cell_type": "code",
   "execution_count": null,
   "metadata": {},
   "outputs": [],
   "source": []
  }
 ],
 "metadata": {
  "kernelspec": {
   "display_name": "zrive-ds-A_ntz6FP-py3.11",
   "language": "python",
   "name": "python3"
  },
  "language_info": {
   "codemirror_mode": {
    "name": "ipython",
    "version": 3
   },
   "file_extension": ".py",
   "mimetype": "text/x-python",
   "name": "python",
   "nbconvert_exporter": "python",
   "pygments_lexer": "ipython3",
   "version": "3.11.0"
  }
 },
 "nbformat": 4,
 "nbformat_minor": 2
}
